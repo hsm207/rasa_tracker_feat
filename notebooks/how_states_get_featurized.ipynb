{
 "cells": [
  {
   "cell_type": "markdown",
   "id": "87e27cd6-22f4-4b5a-bab2-4e57ef707931",
   "metadata": {},
   "source": [
    "# Libraries"
   ]
  },
  {
   "cell_type": "code",
   "execution_count": 1,
   "id": "ddda5489-8e1b-4a31-b6d2-7a9e2ac7a0ca",
   "metadata": {},
   "outputs": [
    {
     "name": "stderr",
     "output_type": "stream",
     "text": [
      "2021-09-26 12:49:36.219201: W tensorflow/stream_executor/platform/default/dso_loader.cc:59] Could not load dynamic library 'libcudart.so.10.1'; dlerror: libcudart.so.10.1: cannot open shared object file: No such file or directory\n",
      "2021-09-26 12:49:36.219258: I tensorflow/stream_executor/cuda/cudart_stub.cc:29] Ignore above cudart dlerror if you do not have a GPU set up on your machine.\n"
     ]
    }
   ],
   "source": [
    "from rasa.core.interpreter import RasaNLUInterpreter\n",
    "from rasa.shared.nlu.training_data.message import Message\n",
    "from rasa.shared.core.domain import Domain\n",
    "from rasa.core.featurizers.single_state_featurizer import SingleStateFeaturizer\n",
    "from rasa.core.agent import load_agent\n",
    "from rasa.core.channels.channel import UserMessage\n",
    "from rasa.shared.core.events import SlotSet, Restarted, UserUttered, BotUttered, ActionExecuted\n",
    "from rasa import model\n",
    "import numpy as np\n",
    "import pandas as pd"
   ]
  },
  {
   "cell_type": "markdown",
   "id": "9258a363-229c-49eb-8751-cc4719601776",
   "metadata": {},
   "source": [
    "# Setup"
   ]
  },
  {
   "cell_type": "code",
   "execution_count": 2,
   "id": "31287adf-bbb9-48c9-9a12-47740c10480e",
   "metadata": {},
   "outputs": [
    {
     "name": "stdout",
     "output_type": "stream",
     "text": [
      "/workspaces/rasa_tracker_feat\n"
     ]
    }
   ],
   "source": [
    "%cd .."
   ]
  },
  {
   "cell_type": "code",
   "execution_count": 3,
   "id": "26dd1831-31d7-48b5-b9c4-321b66c9c663",
   "metadata": {},
   "outputs": [],
   "source": [
    "model_dir = './models'"
   ]
  },
  {
   "cell_type": "markdown",
   "id": "e0bd9744-5143-4c5b-a382-429ebad2c3cf",
   "metadata": {},
   "source": [
    "### Interpreter"
   ]
  },
  {
   "cell_type": "markdown",
   "id": "1fab1d93-6fa9-4040-bb31-ed5c12d99885",
   "metadata": {},
   "source": [
    "Create an interpreter to parse a user message:"
   ]
  },
  {
   "cell_type": "code",
   "execution_count": 4,
   "id": "fbf236d9-aa32-4662-be9f-c414bc8c3fc3",
   "metadata": {},
   "outputs": [
    {
     "name": "stderr",
     "output_type": "stream",
     "text": [
      "2021-09-26 12:49:38.411292: W tensorflow/stream_executor/platform/default/dso_loader.cc:59] Could not load dynamic library 'libcuda.so.1'; dlerror: libcuda.so.1: cannot open shared object file: No such file or directory\n",
      "2021-09-26 12:49:38.411339: W tensorflow/stream_executor/cuda/cuda_driver.cc:312] failed call to cuInit: UNKNOWN ERROR (303)\n",
      "2021-09-26 12:49:38.411366: I tensorflow/stream_executor/cuda/cuda_diagnostics.cc:156] kernel driver does not appear to be running on this host (32fc601b2629): /proc/driver/nvidia/version does not exist\n",
      "2021-09-26 12:49:38.411531: I tensorflow/core/platform/cpu_feature_guard.cc:142] This TensorFlow binary is optimized with oneAPI Deep Neural Network Library (oneDNN)to use the following CPU instructions in performance-critical operations:  AVX2 FMA\n",
      "To enable them in other operations, rebuild TensorFlow with the appropriate compiler flags.\n",
      "2021-09-26 12:49:38.417610: I tensorflow/core/platform/profile_utils/cpu_utils.cc:104] CPU Frequency: 2299965000 Hz\n",
      "2021-09-26 12:49:38.418606: I tensorflow/compiler/xla/service/service.cc:168] XLA service 0x21eedc0 initialized for platform Host (this does not guarantee that XLA will be used). Devices:\n",
      "2021-09-26 12:49:38.418639: I tensorflow/compiler/xla/service/service.cc:176]   StreamExecutor device (0): Host, Default Version\n"
     ]
    }
   ],
   "source": [
    "m = model.get_model(model_dir)\n",
    "_, nlu_model = model.get_model_subdirectories(m)\n",
    "\n",
    "interpreter = RasaNLUInterpreter(model_directory=nlu_model)"
   ]
  },
  {
   "cell_type": "markdown",
   "id": "8ff6e79d-c6c5-465e-8e7e-31760790faee",
   "metadata": {},
   "source": [
    "Get the intent mapping from the interpreter's featurizer:"
   ]
  },
  {
   "cell_type": "code",
   "execution_count": 5,
   "id": "8e907fe8-1357-4e31-99ec-f9334366e0a6",
   "metadata": {},
   "outputs": [
    {
     "data": {
      "text/plain": [
       "{'inform': 5,\n",
       " 'greet': 4,\n",
       " 'goodbye': 3,\n",
       " 'affirm': 0,\n",
       " 'deny': 2,\n",
       " 'mood_great': 6,\n",
       " 'mood_unhappy': 7,\n",
       " 'bot_challenge': 1}"
      ]
     },
     "execution_count": 5,
     "metadata": {},
     "output_type": "execute_result"
    }
   ],
   "source": [
    "components = interpreter.interpreter.pipeline\n",
    "\n",
    "\n",
    "featurizers = [c for c in components if 'CountVectorsFeaturizer' in c.unique_name]\n",
    "\n",
    "has_intent_vectorizer = lambda x: x.vectorizers.get('intent') is not None\n",
    "\n",
    "featurizer = [f for f in featurizers if has_intent_vectorizer(f)]\n",
    "\n",
    "assert len(featurizer) == 1\n",
    "\n",
    "featurizer = featurizer[0]\n",
    "intent_to_idx_map = featurizer.vectorizers['intent'].vocabulary\n",
    "intent_to_idx_map"
   ]
  },
  {
   "cell_type": "markdown",
   "id": "28ad1366-d20a-4fc0-911b-a68ac0addbbb",
   "metadata": {},
   "source": [
    "Invert the map:"
   ]
  },
  {
   "cell_type": "code",
   "execution_count": 6,
   "id": "eb6b4a76-d382-40df-bb6f-341119079c69",
   "metadata": {},
   "outputs": [
    {
     "data": {
      "text/plain": [
       "{5: 'inform',\n",
       " 4: 'greet',\n",
       " 3: 'goodbye',\n",
       " 0: 'affirm',\n",
       " 2: 'deny',\n",
       " 6: 'mood_great',\n",
       " 7: 'mood_unhappy',\n",
       " 1: 'bot_challenge'}"
      ]
     },
     "execution_count": 6,
     "metadata": {},
     "output_type": "execute_result"
    }
   ],
   "source": [
    "idx_to_intent_map = {v:k for k,v in intent_to_idx_map.items()}\n",
    "idx_to_intent_map"
   ]
  },
  {
   "cell_type": "markdown",
   "id": "98ba6679-7e83-4e27-8a34-fb4493fb408a",
   "metadata": {},
   "source": [
    "### State Featurizer"
   ]
  },
  {
   "cell_type": "markdown",
   "id": "1180fdfd-7a01-4093-8fee-b78b8987a0a8",
   "metadata": {},
   "source": [
    "Load the model's domain:"
   ]
  },
  {
   "cell_type": "code",
   "execution_count": 7,
   "id": "f492656a-f2c3-4551-9d31-92f3ce10b0b3",
   "metadata": {},
   "outputs": [],
   "source": [
    "domain = Domain.from_file('./domain.yml')"
   ]
  },
  {
   "cell_type": "markdown",
   "id": "00ed8c9b-32fa-4170-ba74-3035d23fc88a",
   "metadata": {},
   "source": [
    "Create a state featurizer:"
   ]
  },
  {
   "cell_type": "code",
   "execution_count": 8,
   "id": "302b8b68-85a0-474e-9aea-14be14da19f2",
   "metadata": {},
   "outputs": [],
   "source": [
    "ssf = SingleStateFeaturizer()\n",
    "ssf.prepare_for_training(domain=domain, interpreter=interpreter)"
   ]
  },
  {
   "cell_type": "markdown",
   "id": "3c7cd6ef-fa82-43b0-af8f-2ed09828d9ee",
   "metadata": {},
   "source": [
    "### Agent"
   ]
  },
  {
   "cell_type": "markdown",
   "id": "eae0758f-74ac-440e-911d-8fd7d0f9698f",
   "metadata": {},
   "source": [
    "Create an agent to create a message processor:"
   ]
  },
  {
   "cell_type": "code",
   "execution_count": 9,
   "id": "7e5c69e3-e509-4867-b6b2-66ad6e0b4078",
   "metadata": {},
   "outputs": [],
   "source": [
    "agent = await load_agent(model_path=model_dir, interpreter=interpreter)\n",
    "message_processor = agent.create_processor()"
   ]
  },
  {
   "cell_type": "markdown",
   "id": "3de460cd-4da0-4d8c-9031-4401c65a758c",
   "metadata": {},
   "source": [
    "Get the featurizer for TED Policy too:"
   ]
  },
  {
   "cell_type": "code",
   "execution_count": 10,
   "id": "7938ea30-a0ae-4ac7-b276-1cbd0435afcd",
   "metadata": {},
   "outputs": [],
   "source": [
    "ted_featurizer = [p for p in agent.policy_ensemble.policies if p.__class__.__name__ == 'TEDPolicy'][0].featurizer"
   ]
  },
  {
   "cell_type": "markdown",
   "id": "910f7b93-54b9-440b-a4b8-641a7543f038",
   "metadata": {},
   "source": [
    "# Utility Functions"
   ]
  },
  {
   "cell_type": "code",
   "execution_count": 11,
   "id": "e8c5a81c-7bfa-48b4-917a-bd93d53cef8d",
   "metadata": {},
   "outputs": [],
   "source": [
    "def create_user_message(text, sender_id=\"test_id\"):\n",
    "    return UserMessage(text=text, sender_id=sender_id)"
   ]
  },
  {
   "cell_type": "code",
   "execution_count": 12,
   "id": "be2cc099-846d-47f3-9fc7-78175133e000",
   "metadata": {},
   "outputs": [],
   "source": [
    "async def get_tracker(message_processer, user_message, save_tracker=False):\n",
    "    return await message_processor.log_message(user_message, should_save_tracker = save_tracker)"
   ]
  },
  {
   "cell_type": "code",
   "execution_count": 13,
   "id": "5c160dfd-878c-4360-b027-22556b999778",
   "metadata": {},
   "outputs": [],
   "source": [
    "async def create_prediction_states_and_features(user_message):\n",
    "    tracker = await get_tracker(message_processor, user_message)\n",
    "    states =  ted_featurizer.prediction_states([tracker], domain)[0]\n",
    "    features = ted_featurizer.create_state_features([tracker], domain, interpreter)[0]\n",
    "    \n",
    "    return states, features"
   ]
  },
  {
   "cell_type": "code",
   "execution_count": 14,
   "id": "68a4245e-925b-4cb6-8a34-1cb96e8d6b11",
   "metadata": {},
   "outputs": [],
   "source": [
    "def extract_features(features, feature_type):\n",
    "    \n",
    "    if feature_type == 'intent':\n",
    "        f = features[feature_type]\n",
    "        assert len(f) == 1\n",
    "        \n",
    "        return f[0].features.todense()\n",
    "    \n",
    "    elif feature_type == 'entities':\n",
    "        f = features[feature_type]\n",
    "        assert len(f) == 1\n",
    "        f = f[0].features\n",
    "        assert f.shape[0] == 1\n",
    "        \n",
    "        return np.array(f.todense()).squeeze()\n",
    "    \n",
    "    elif feature_type == 'slots':\n",
    "        f = features[0]\n",
    "        assert len(f[feature_type]) == 1\n",
    "        f = f[feature_type][0]\n",
    "        \n",
    "        return np.array(f.features.todense()).squeeze()"
   ]
  },
  {
   "cell_type": "code",
   "execution_count": 15,
   "id": "d9bb7d25-434e-4104-aa1b-4e7dc9adad14",
   "metadata": {},
   "outputs": [],
   "source": [
    "def get_slot_prediction_states_and_features(tracker, slot_event):\n",
    "    tracker.update(Restarted(), domain)\n",
    "    tracker.update(slot_event, domain)\n",
    "    \n",
    "    states = ted_featurizer.prediction_states([tracker], domain)[0]\n",
    "    features = ted_featurizer.create_state_features([t], domain, interpreter)[0]\n",
    "    \n",
    "    return states, features"
   ]
  },
  {
   "cell_type": "markdown",
   "id": "d016be81-fd1a-4067-959c-b6e0f316c8b4",
   "metadata": {},
   "source": [
    "# Featurization"
   ]
  },
  {
   "cell_type": "markdown",
   "id": "141b0ef4-992c-4701-a0e9-d1909c7d57b2",
   "metadata": {},
   "source": [
    "## Intent"
   ]
  },
  {
   "cell_type": "markdown",
   "id": "e2577d4b-1ecd-4239-8a2d-7e4a7c72344a",
   "metadata": {},
   "source": [
    "Define a user messsage:"
   ]
  },
  {
   "cell_type": "code",
   "execution_count": 16,
   "id": "1835cd61-d857-4a8d-a471-6f1f7b389cd3",
   "metadata": {},
   "outputs": [],
   "source": [
    "message = \"I am feeling happy\"\n",
    "user_message = UserMessage(text=message, sender_id=\"test_id\")"
   ]
  },
  {
   "cell_type": "markdown",
   "id": "ff0db373-5dde-48a5-9b4e-ced7d8c60c92",
   "metadata": {},
   "source": [
    "Parse the user message:"
   ]
  },
  {
   "cell_type": "code",
   "execution_count": 17,
   "id": "1a65c8a0-1dce-499a-8335-f38ac2dfb49c",
   "metadata": {
    "scrolled": true,
    "tags": []
   },
   "outputs": [
    {
     "data": {
      "text/plain": [
       "{'text': 'I am feeling happy',\n",
       " 'intent': {'id': 5881328340418250069,\n",
       "  'name': 'mood_great',\n",
       "  'confidence': 0.9999083280563354},\n",
       " 'entities': [],\n",
       " 'intent_ranking': [{'id': 5881328340418250069,\n",
       "   'name': 'mood_great',\n",
       "   'confidence': 0.9999083280563354},\n",
       "  {'id': -6694443392625421003,\n",
       "   'name': 'bot_challenge',\n",
       "   'confidence': 3.876308983308263e-05},\n",
       "  {'id': -7509306822527489582,\n",
       "   'name': 'mood_unhappy',\n",
       "   'confidence': 3.4971741115441546e-05},\n",
       "  {'id': 4390007749353229196,\n",
       "   'name': 'deny',\n",
       "   'confidence': 6.9123402681725565e-06},\n",
       "  {'id': 5131837534165408679,\n",
       "   'name': 'greet',\n",
       "   'confidence': 5.682764822267927e-06},\n",
       "  {'id': 1335942896814238086,\n",
       "   'name': 'affirm',\n",
       "   'confidence': 3.985840521636419e-06},\n",
       "  {'id': -4713551111634206545,\n",
       "   'name': 'inform',\n",
       "   'confidence': 1.2289583537494764e-06},\n",
       "  {'id': -7784688068645847004,\n",
       "   'name': 'goodbye',\n",
       "   'confidence': 1.1073764483171544e-07}],\n",
       " 'response_selector': {'all_retrieval_intents': [],\n",
       "  'default': {'response': {'id': None,\n",
       "    'responses': None,\n",
       "    'response_templates': None,\n",
       "    'confidence': 0.0,\n",
       "    'intent_response_key': None,\n",
       "    'utter_action': 'utter_None',\n",
       "    'template_name': 'utter_None'},\n",
       "   'ranking': []}}}"
      ]
     },
     "execution_count": 17,
     "metadata": {},
     "output_type": "execute_result"
    }
   ],
   "source": [
    "await message_processor.parse_message(user_message)"
   ]
  },
  {
   "cell_type": "markdown",
   "id": "42cf98a8-71da-4426-8c2a-0bc90d1bdf33",
   "metadata": {},
   "source": [
    "Get the state and features of the user message:"
   ]
  },
  {
   "cell_type": "code",
   "execution_count": 18,
   "id": "527a9d37-a7c4-4f11-b8d3-b8fa392affcc",
   "metadata": {},
   "outputs": [
    {
     "data": {
      "text/plain": [
       "{'user': {'intent': 'mood_great'},\n",
       " 'prev_action': {'action_name': 'action_listen'}}"
      ]
     },
     "execution_count": 18,
     "metadata": {},
     "output_type": "execute_result"
    }
   ],
   "source": [
    "states, features = await create_prediction_states_and_features(user_message)\n",
    "states = states[-1]\n",
    "features = features[-1]\n",
    "\n",
    "states"
   ]
  },
  {
   "cell_type": "markdown",
   "id": "97e6dafe-bada-4eb5-b2cd-8c33933db70f",
   "metadata": {},
   "source": [
    "Manually compute the features given the states:"
   ]
  },
  {
   "cell_type": "code",
   "execution_count": 19,
   "id": "410e6eec-a5b7-417a-9502-b90efb8bb3bf",
   "metadata": {},
   "outputs": [
    {
     "data": {
      "text/plain": [
       "matrix([[0, 0, 0, 0, 0, 0, 1, 0]])"
      ]
     },
     "execution_count": 19,
     "metadata": {},
     "output_type": "execute_result"
    }
   ],
   "source": [
    "intent_features_manual = interpreter.featurize_message(Message(data=states['user']))\n",
    "\n",
    "intent_features_manual = intent_features_manual.features[0].features.todense()\n",
    "intent_features_manual"
   ]
  },
  {
   "cell_type": "markdown",
   "id": "c4a932dd-beff-46b5-867d-03cdfbc37562",
   "metadata": {},
   "source": [
    "Validate the manual computation:"
   ]
  },
  {
   "cell_type": "code",
   "execution_count": 20,
   "id": "2eab1933-1ab4-445c-9d07-9f58ae093077",
   "metadata": {},
   "outputs": [],
   "source": [
    "assert np.array_equal(intent_features_manual, extract_features(features, 'intent'))"
   ]
  },
  {
   "cell_type": "markdown",
   "id": "dcf98efe-5f6d-46a3-a605-12baa9dcbf72",
   "metadata": {},
   "source": [
    "Double check using the text:"
   ]
  },
  {
   "cell_type": "code",
   "execution_count": 21,
   "id": "45107418-c8b9-40f5-8f78-88866e478d25",
   "metadata": {},
   "outputs": [
    {
     "data": {
      "text/plain": [
       "'mood_great'"
      ]
     },
     "execution_count": 21,
     "metadata": {},
     "output_type": "execute_result"
    }
   ],
   "source": [
    "idx = intent_features_manual.argmax()\n",
    "idx_to_intent_map[idx]"
   ]
  },
  {
   "cell_type": "markdown",
   "id": "e03f2798-1b42-46d1-adaf-bc2591494533",
   "metadata": {},
   "source": [
    "## Entities"
   ]
  },
  {
   "cell_type": "markdown",
   "id": "3e6cf8e5-31dc-459d-ab57-68d3603be2f9",
   "metadata": {},
   "source": [
    "This is how the entities are mapped:"
   ]
  },
  {
   "cell_type": "code",
   "execution_count": 22,
   "id": "4a8c45d0-bc44-4fea-83c2-3a97cfdb0308",
   "metadata": {},
   "outputs": [
    {
     "data": {
      "text/plain": [
       "{'account': 0,\n",
       " 'city': 1,\n",
       " 'topping': 2,\n",
       " 'size': 3,\n",
       " 'city#departure': 4,\n",
       " 'city#destination': 5,\n",
       " 'topping#1': 6,\n",
       " 'topping#2': 7,\n",
       " 'size#1': 8,\n",
       " 'size#2': 9}"
      ]
     },
     "execution_count": 22,
     "metadata": {},
     "output_type": "execute_result"
    }
   ],
   "source": [
    "entity_to_idx = ssf._default_feature_states['entities']\n",
    "idx_to_entity = {v:k for k,v in entity_to_idx.items()}\n",
    "\n",
    "entity_to_idx"
   ]
  },
  {
   "cell_type": "markdown",
   "id": "64b1a756-d727-4e26-8d96-64ab5c60359a",
   "metadata": {},
   "source": [
    "### Entities With Roles"
   ]
  },
  {
   "cell_type": "markdown",
   "id": "5b64c875-fa92-4cc6-a5bc-88e5610ffd01",
   "metadata": {},
   "source": [
    "Define a message:"
   ]
  },
  {
   "cell_type": "code",
   "execution_count": 23,
   "id": "157557e2-b242-4199-8642-621c2dec5990",
   "metadata": {},
   "outputs": [],
   "source": [
    "message = \"I want to travel from berlin to san francisco\"\n",
    "user_message = UserMessage(text=message, sender_id=\"test_id\")"
   ]
  },
  {
   "cell_type": "markdown",
   "id": "037bc077-18c7-492c-917d-35941ae3b8df",
   "metadata": {},
   "source": [
    "Process the message:"
   ]
  },
  {
   "cell_type": "code",
   "execution_count": 24,
   "id": "f414c1b3-6bb3-4f06-80ff-182b5519dad2",
   "metadata": {
    "scrolled": true,
    "tags": []
   },
   "outputs": [
    {
     "data": {
      "text/plain": [
       "{'text': 'I want to travel from berlin to san francisco',\n",
       " 'intent': {'id': -4713551111634206545,\n",
       "  'name': 'inform',\n",
       "  'confidence': 0.9999123811721802},\n",
       " 'entities': [{'entity': 'city',\n",
       "   'start': 22,\n",
       "   'end': 28,\n",
       "   'confidence_entity': 0.9618536829948425,\n",
       "   'value': 'berlin',\n",
       "   'extractor': 'DIETClassifier'},\n",
       "  {'entity': 'city',\n",
       "   'start': 32,\n",
       "   'end': 45,\n",
       "   'confidence_entity': 0.915094256401062,\n",
       "   'role': 'destination',\n",
       "   'confidence_role': 0.7696428894996643,\n",
       "   'value': 'san francisco',\n",
       "   'extractor': 'DIETClassifier'}],\n",
       " 'intent_ranking': [{'id': -4713551111634206545,\n",
       "   'name': 'inform',\n",
       "   'confidence': 0.9999123811721802},\n",
       "  {'id': -6694443392625421003,\n",
       "   'name': 'bot_challenge',\n",
       "   'confidence': 3.93703012377955e-05},\n",
       "  {'id': -7784688068645847004,\n",
       "   'name': 'goodbye',\n",
       "   'confidence': 1.9640792743302882e-05},\n",
       "  {'id': 1335942896814238086,\n",
       "   'name': 'affirm',\n",
       "   'confidence': 1.5616844393662177e-05},\n",
       "  {'id': 4390007749353229196,\n",
       "   'name': 'deny',\n",
       "   'confidence': 5.966004209767561e-06},\n",
       "  {'id': -7509306822527489582,\n",
       "   'name': 'mood_unhappy',\n",
       "   'confidence': 4.864892162004253e-06},\n",
       "  {'id': 5881328340418250069,\n",
       "   'name': 'mood_great',\n",
       "   'confidence': 1.8669990140551818e-06},\n",
       "  {'id': 5131837534165408679,\n",
       "   'name': 'greet',\n",
       "   'confidence': 3.270967283697246e-07}],\n",
       " 'response_selector': {'all_retrieval_intents': [],\n",
       "  'default': {'response': {'id': None,\n",
       "    'responses': None,\n",
       "    'response_templates': None,\n",
       "    'confidence': 0.0,\n",
       "    'intent_response_key': None,\n",
       "    'utter_action': 'utter_None',\n",
       "    'template_name': 'utter_None'},\n",
       "   'ranking': []}}}"
      ]
     },
     "execution_count": 24,
     "metadata": {},
     "output_type": "execute_result"
    }
   ],
   "source": [
    "await message_processor.parse_message(user_message)"
   ]
  },
  {
   "cell_type": "markdown",
   "id": "11cefa9b-35d1-4ff8-9e5d-500fa4d3c87f",
   "metadata": {},
   "source": [
    "Create the states and features:"
   ]
  },
  {
   "cell_type": "code",
   "execution_count": 25,
   "id": "41fb0717-3288-40d8-8036-777c0f9664f4",
   "metadata": {},
   "outputs": [
    {
     "data": {
      "text/plain": [
       "{'user': {'intent': 'inform', 'entities': ('city', 'city#destination')},\n",
       " 'prev_action': {'action_name': 'action_listen'}}"
      ]
     },
     "execution_count": 25,
     "metadata": {},
     "output_type": "execute_result"
    }
   ],
   "source": [
    "states, features = await create_prediction_states_and_features(user_message)\n",
    "states = states[-1]\n",
    "features = features[-1]\n",
    "\n",
    "states"
   ]
  },
  {
   "cell_type": "markdown",
   "id": "3b38bf4b-bf39-466f-93ac-54e8b5686455",
   "metadata": {},
   "source": [
    "Compute the features:"
   ]
  },
  {
   "cell_type": "code",
   "execution_count": 26,
   "id": "3297227f-8b32-43bd-9b99-572e17603a92",
   "metadata": {},
   "outputs": [
    {
     "data": {
      "text/plain": [
       "array([0., 1., 0., 0., 0., 1., 0., 0., 0., 0.], dtype=float32)"
      ]
     },
     "execution_count": 26,
     "metadata": {},
     "output_type": "execute_result"
    }
   ],
   "source": [
    "sub_state = states['user']\n",
    "\n",
    "entity_features_manual = ssf._create_features(sub_state, 'entities')[0].features.flatten()\n",
    "entity_features_manual"
   ]
  },
  {
   "cell_type": "markdown",
   "id": "f3a92104-82c5-4e73-9598-90a5712a4505",
   "metadata": {},
   "source": [
    "Validate the manual computation:"
   ]
  },
  {
   "cell_type": "code",
   "execution_count": 27,
   "id": "865835d5-0380-4e73-9150-edd7cc577f61",
   "metadata": {},
   "outputs": [],
   "source": [
    "assert np.array_equal(entity_features_manual, extract_features(features, 'entities'))"
   ]
  },
  {
   "cell_type": "markdown",
   "id": "1dfa409f-3242-41fd-b9a8-f60045874c3a",
   "metadata": {},
   "source": [
    "View the results in text:"
   ]
  },
  {
   "cell_type": "code",
   "execution_count": 28,
   "id": "f9687b0f-f946-4aac-8738-7b98a07cae73",
   "metadata": {},
   "outputs": [
    {
     "data": {
      "text/plain": [
       "['city', 'city#destination']"
      ]
     },
     "execution_count": 28,
     "metadata": {},
     "output_type": "execute_result"
    }
   ],
   "source": [
    "[idx_to_entity[i.item()] for i in entity_features_manual.nonzero()[0]]"
   ]
  },
  {
   "cell_type": "markdown",
   "id": "1c8be099-2322-46c2-abba-01bba41454bb",
   "metadata": {},
   "source": [
    "### Entities With Groups"
   ]
  },
  {
   "cell_type": "code",
   "execution_count": 29,
   "id": "0c33d3ed-1c53-43eb-9b54-d89c8bdd2f2c",
   "metadata": {},
   "outputs": [],
   "source": [
    "message = \"Give me a small pizza with mushrooms and a large pepperoni\"\n",
    "user_message = UserMessage(text=message, sender_id=\"test_user\")"
   ]
  },
  {
   "cell_type": "code",
   "execution_count": 30,
   "id": "5f01c16e-2ce7-4763-bf8f-f033ea30ec71",
   "metadata": {
    "scrolled": true,
    "tags": []
   },
   "outputs": [
    {
     "data": {
      "text/plain": [
       "{'text': 'Give me a small pizza with mushrooms and a large pepperoni',\n",
       " 'intent': {'id': -4713551111634206545,\n",
       "  'name': 'inform',\n",
       "  'confidence': 0.9999113082885742},\n",
       " 'entities': [{'entity': 'size',\n",
       "   'start': 10,\n",
       "   'end': 15,\n",
       "   'confidence_entity': 0.9797298908233643,\n",
       "   'group': '1',\n",
       "   'confidence_group': 0.9713470935821533,\n",
       "   'value': 'small',\n",
       "   'extractor': 'DIETClassifier'},\n",
       "  {'entity': 'topping',\n",
       "   'start': 27,\n",
       "   'end': 36,\n",
       "   'confidence_entity': 0.9666152596473694,\n",
       "   'group': '1',\n",
       "   'confidence_group': 0.9583228230476379,\n",
       "   'value': 'mushrooms',\n",
       "   'extractor': 'DIETClassifier'},\n",
       "  {'entity': 'size',\n",
       "   'start': 43,\n",
       "   'end': 48,\n",
       "   'confidence_entity': 0.971481442451477,\n",
       "   'group': '2',\n",
       "   'confidence_group': 0.9579463601112366,\n",
       "   'value': 'large',\n",
       "   'extractor': 'DIETClassifier'},\n",
       "  {'entity': 'topping',\n",
       "   'start': 49,\n",
       "   'end': 58,\n",
       "   'confidence_entity': 0.9747665524482727,\n",
       "   'group': '2',\n",
       "   'confidence_group': 0.9859060049057007,\n",
       "   'value': 'pepperoni',\n",
       "   'extractor': 'DIETClassifier'}],\n",
       " 'intent_ranking': [{'id': -4713551111634206545,\n",
       "   'name': 'inform',\n",
       "   'confidence': 0.9999113082885742},\n",
       "  {'id': -6694443392625421003,\n",
       "   'name': 'bot_challenge',\n",
       "   'confidence': 3.7412301026051864e-05},\n",
       "  {'id': 1335942896814238086,\n",
       "   'name': 'affirm',\n",
       "   'confidence': 2.2513317162520252e-05},\n",
       "  {'id': -7784688068645847004,\n",
       "   'name': 'goodbye',\n",
       "   'confidence': 1.484221047576284e-05},\n",
       "  {'id': 4390007749353229196,\n",
       "   'name': 'deny',\n",
       "   'confidence': 7.1295726229436696e-06},\n",
       "  {'id': -7509306822527489582,\n",
       "   'name': 'mood_unhappy',\n",
       "   'confidence': 4.62585785498959e-06},\n",
       "  {'id': 5881328340418250069,\n",
       "   'name': 'mood_great',\n",
       "   'confidence': 1.254389644600451e-06},\n",
       "  {'id': 5131837534165408679,\n",
       "   'name': 'greet',\n",
       "   'confidence': 8.23607308575447e-07}],\n",
       " 'response_selector': {'all_retrieval_intents': [],\n",
       "  'default': {'response': {'id': None,\n",
       "    'responses': None,\n",
       "    'response_templates': None,\n",
       "    'confidence': 0.0,\n",
       "    'intent_response_key': None,\n",
       "    'utter_action': 'utter_None',\n",
       "    'template_name': 'utter_None'},\n",
       "   'ranking': []}}}"
      ]
     },
     "execution_count": 30,
     "metadata": {},
     "output_type": "execute_result"
    }
   ],
   "source": [
    "await message_processor.parse_message(user_message)"
   ]
  },
  {
   "cell_type": "code",
   "execution_count": 31,
   "id": "84816c6b-3a11-43ba-baf0-8d3215602ca4",
   "metadata": {},
   "outputs": [
    {
     "data": {
      "text/plain": [
       "{'user': {'intent': 'inform',\n",
       "  'entities': ('size',\n",
       "   'size#1',\n",
       "   'size#2',\n",
       "   'topping',\n",
       "   'topping#1',\n",
       "   'topping#2')},\n",
       " 'prev_action': {'action_name': 'action_listen'}}"
      ]
     },
     "execution_count": 31,
     "metadata": {},
     "output_type": "execute_result"
    }
   ],
   "source": [
    "states, features = await create_prediction_states_and_features(user_message)\n",
    "states = states[-1]\n",
    "features = features[-1]\n",
    "\n",
    "states"
   ]
  },
  {
   "cell_type": "code",
   "execution_count": 32,
   "id": "e05130d2-6f4f-4c76-9ce1-79bf6a763995",
   "metadata": {},
   "outputs": [
    {
     "data": {
      "text/plain": [
       "array([0., 0., 1., 1., 0., 0., 1., 1., 1., 1.], dtype=float32)"
      ]
     },
     "execution_count": 32,
     "metadata": {},
     "output_type": "execute_result"
    }
   ],
   "source": [
    "sub_state = states['user']\n",
    "\n",
    "entity_features_manual = ssf._create_features(sub_state, 'entities')[0].features.flatten()\n",
    "entity_features_manual"
   ]
  },
  {
   "cell_type": "code",
   "execution_count": 33,
   "id": "45e1f473-a68e-4c6d-ba9e-08611a001bd7",
   "metadata": {},
   "outputs": [],
   "source": [
    "assert np.array_equal(entity_features_manual, extract_features(features, 'entities'))"
   ]
  },
  {
   "cell_type": "code",
   "execution_count": 34,
   "id": "2d3a2592-afcd-4658-b10a-0d2ed2aceff6",
   "metadata": {},
   "outputs": [
    {
     "data": {
      "text/plain": [
       "['topping', 'size', 'topping#1', 'topping#2', 'size#1', 'size#2']"
      ]
     },
     "execution_count": 34,
     "metadata": {},
     "output_type": "execute_result"
    }
   ],
   "source": [
    "[idx_to_entity[i.item()] for i in entity_features_manual.nonzero()[0]]"
   ]
  },
  {
   "cell_type": "markdown",
   "id": "46a9596e-3236-4077-883d-772f4bd44ec5",
   "metadata": {},
   "source": [
    "### Single Entity"
   ]
  },
  {
   "cell_type": "code",
   "execution_count": 35,
   "id": "372606f8-21b8-498a-99e9-bc064c9220d9",
   "metadata": {},
   "outputs": [],
   "source": [
    "message = \"I want to open a checking account\"\n",
    "user_message = UserMessage(text=message, sender_id=\"test_user\")"
   ]
  },
  {
   "cell_type": "code",
   "execution_count": 36,
   "id": "75cc424f-4e6a-44f5-8f98-2bd9c927fa01",
   "metadata": {
    "scrolled": true,
    "tags": []
   },
   "outputs": [
    {
     "data": {
      "text/plain": [
       "{'text': 'I want to open a checking account',\n",
       " 'intent': {'id': -4713551111634206545,\n",
       "  'name': 'inform',\n",
       "  'confidence': 0.9998669624328613},\n",
       " 'entities': [{'entity': 'account',\n",
       "   'start': 17,\n",
       "   'end': 33,\n",
       "   'confidence_entity': 0.9945732951164246,\n",
       "   'value': 'checking account',\n",
       "   'extractor': 'DIETClassifier'}],\n",
       " 'intent_ranking': [{'id': -4713551111634206545,\n",
       "   'name': 'inform',\n",
       "   'confidence': 0.9998669624328613},\n",
       "  {'id': -6694443392625421003,\n",
       "   'name': 'bot_challenge',\n",
       "   'confidence': 7.860726327635348e-05},\n",
       "  {'id': 1335942896814238086,\n",
       "   'name': 'affirm',\n",
       "   'confidence': 2.9824941520928405e-05},\n",
       "  {'id': -7784688068645847004,\n",
       "   'name': 'goodbye',\n",
       "   'confidence': 1.7919752281159163e-05},\n",
       "  {'id': 4390007749353229196,\n",
       "   'name': 'deny',\n",
       "   'confidence': 2.527108335925732e-06},\n",
       "  {'id': -7509306822527489582,\n",
       "   'name': 'mood_unhappy',\n",
       "   'confidence': 1.922559249578626e-06},\n",
       "  {'id': 5881328340418250069,\n",
       "   'name': 'mood_great',\n",
       "   'confidence': 1.0976101521009696e-06},\n",
       "  {'id': 5131837534165408679,\n",
       "   'name': 'greet',\n",
       "   'confidence': 1.0666939260772779e-06}],\n",
       " 'response_selector': {'all_retrieval_intents': [],\n",
       "  'default': {'response': {'id': None,\n",
       "    'responses': None,\n",
       "    'response_templates': None,\n",
       "    'confidence': 0.0,\n",
       "    'intent_response_key': None,\n",
       "    'utter_action': 'utter_None',\n",
       "    'template_name': 'utter_None'},\n",
       "   'ranking': []}}}"
      ]
     },
     "execution_count": 36,
     "metadata": {},
     "output_type": "execute_result"
    }
   ],
   "source": [
    "await message_processor.parse_message(user_message)"
   ]
  },
  {
   "cell_type": "code",
   "execution_count": 37,
   "id": "6f715bca-15e5-4243-9516-3ab9b60bc9bb",
   "metadata": {},
   "outputs": [
    {
     "data": {
      "text/plain": [
       "{'user': {'intent': 'inform', 'entities': ('account',)},\n",
       " 'prev_action': {'action_name': 'action_listen'}}"
      ]
     },
     "execution_count": 37,
     "metadata": {},
     "output_type": "execute_result"
    }
   ],
   "source": [
    "states, features = await create_prediction_states_and_features(user_message)\n",
    "states = states[-1]\n",
    "features = features[-1]\n",
    "\n",
    "states"
   ]
  },
  {
   "cell_type": "code",
   "execution_count": 38,
   "id": "a78892fc-8a42-465a-abec-3a25b04404e9",
   "metadata": {},
   "outputs": [
    {
     "data": {
      "text/plain": [
       "array([1., 0., 0., 0., 0., 0., 0., 0., 0., 0.], dtype=float32)"
      ]
     },
     "execution_count": 38,
     "metadata": {},
     "output_type": "execute_result"
    }
   ],
   "source": [
    "sub_state = states['user']\n",
    "\n",
    "entity_features_manual = ssf._create_features(sub_state, 'entities')[0].features.flatten()\n",
    "entity_features_manual"
   ]
  },
  {
   "cell_type": "code",
   "execution_count": 39,
   "id": "45cc1ac5-d85b-4dc7-a0da-aca8b5664f10",
   "metadata": {},
   "outputs": [],
   "source": [
    "assert np.array_equal(entity_features_manual, extract_features(features, 'entities'))"
   ]
  },
  {
   "cell_type": "code",
   "execution_count": 40,
   "id": "826ab339-8879-4c40-a0ec-ce743bd306e1",
   "metadata": {},
   "outputs": [
    {
     "data": {
      "text/plain": [
       "['account']"
      ]
     },
     "execution_count": 40,
     "metadata": {},
     "output_type": "execute_result"
    }
   ],
   "source": [
    "[idx_to_entity[i.item()] for i in entity_features_manual.nonzero()[0]]"
   ]
  },
  {
   "cell_type": "markdown",
   "id": "3a5c998f-9cd7-4e35-8491-eed3612f0477",
   "metadata": {},
   "source": [
    "### Repeat Entities"
   ]
  },
  {
   "cell_type": "code",
   "execution_count": 41,
   "id": "01e6f865-5254-4115-b70d-69266daf7bd4",
   "metadata": {},
   "outputs": [],
   "source": [
    "message = \"I want to transfer money from my checking account to my savings account\"\n",
    "user_message = UserMessage(text=message, sender_id=\"test_user\")"
   ]
  },
  {
   "cell_type": "code",
   "execution_count": 42,
   "id": "cff2e185-714c-45bb-9730-0ef6462a5462",
   "metadata": {
    "scrolled": true,
    "tags": []
   },
   "outputs": [
    {
     "data": {
      "text/plain": [
       "{'text': 'I want to transfer money from my checking account to my savings account',\n",
       " 'intent': {'id': -4713551111634206545,\n",
       "  'name': 'inform',\n",
       "  'confidence': 0.9999291300773621},\n",
       " 'entities': [{'entity': 'account',\n",
       "   'start': 33,\n",
       "   'end': 49,\n",
       "   'confidence_entity': 0.9910616874694824,\n",
       "   'value': 'checking account',\n",
       "   'extractor': 'DIETClassifier'},\n",
       "  {'entity': 'account',\n",
       "   'start': 56,\n",
       "   'end': 71,\n",
       "   'confidence_entity': 0.9932772517204285,\n",
       "   'value': 'savings account',\n",
       "   'extractor': 'DIETClassifier'}],\n",
       " 'intent_ranking': [{'id': -4713551111634206545,\n",
       "   'name': 'inform',\n",
       "   'confidence': 0.9999291300773621},\n",
       "  {'id': -6694443392625421003,\n",
       "   'name': 'bot_challenge',\n",
       "   'confidence': 3.596628812374547e-05},\n",
       "  {'id': 1335942896814238086,\n",
       "   'name': 'affirm',\n",
       "   'confidence': 1.93811265489785e-05},\n",
       "  {'id': -7784688068645847004,\n",
       "   'name': 'goodbye',\n",
       "   'confidence': 1.0578203728073277e-05},\n",
       "  {'id': 4390007749353229196,\n",
       "   'name': 'deny',\n",
       "   'confidence': 2.0223581032041693e-06},\n",
       "  {'id': -7509306822527489582,\n",
       "   'name': 'mood_unhappy',\n",
       "   'confidence': 1.5496259493374964e-06},\n",
       "  {'id': 5881328340418250069,\n",
       "   'name': 'mood_great',\n",
       "   'confidence': 8.554705459573597e-07},\n",
       "  {'id': 5131837534165408679,\n",
       "   'name': 'greet',\n",
       "   'confidence': 5.468916697282111e-07}],\n",
       " 'response_selector': {'all_retrieval_intents': [],\n",
       "  'default': {'response': {'id': None,\n",
       "    'responses': None,\n",
       "    'response_templates': None,\n",
       "    'confidence': 0.0,\n",
       "    'intent_response_key': None,\n",
       "    'utter_action': 'utter_None',\n",
       "    'template_name': 'utter_None'},\n",
       "   'ranking': []}}}"
      ]
     },
     "execution_count": 42,
     "metadata": {},
     "output_type": "execute_result"
    }
   ],
   "source": [
    "await message_processor.parse_message(user_message)"
   ]
  },
  {
   "cell_type": "code",
   "execution_count": 43,
   "id": "deec753f-4041-4a04-8825-6241548f7c98",
   "metadata": {},
   "outputs": [
    {
     "data": {
      "text/plain": [
       "{'user': {'intent': 'inform', 'entities': ('account',)},\n",
       " 'prev_action': {'action_name': 'action_listen'}}"
      ]
     },
     "execution_count": 43,
     "metadata": {},
     "output_type": "execute_result"
    }
   ],
   "source": [
    "states, features = await create_prediction_states_and_features(user_message)\n",
    "states = states[-1]\n",
    "features = features[-1]\n",
    "\n",
    "states"
   ]
  },
  {
   "cell_type": "code",
   "execution_count": 44,
   "id": "e86b4b21-504e-40a8-bacd-72b251bcfca0",
   "metadata": {},
   "outputs": [
    {
     "data": {
      "text/plain": [
       "array([1., 0., 0., 0., 0., 0., 0., 0., 0., 0.], dtype=float32)"
      ]
     },
     "execution_count": 44,
     "metadata": {},
     "output_type": "execute_result"
    }
   ],
   "source": [
    "sub_state = states['user']\n",
    "\n",
    "entity_features_manual = ssf._create_features(sub_state, 'entities')[0].features.flatten()\n",
    "entity_features_manual"
   ]
  },
  {
   "cell_type": "code",
   "execution_count": 45,
   "id": "2c3f23fc-174b-43ab-92f2-a6c7e698e0d4",
   "metadata": {},
   "outputs": [],
   "source": [
    "assert np.array_equal(entity_features_manual, extract_features(features, 'entities'))"
   ]
  },
  {
   "cell_type": "code",
   "execution_count": 46,
   "id": "95beaf88-3e4d-4c77-905f-d6c35a10de4d",
   "metadata": {},
   "outputs": [
    {
     "data": {
      "text/plain": [
       "['account']"
      ]
     },
     "execution_count": 46,
     "metadata": {},
     "output_type": "execute_result"
    }
   ],
   "source": [
    "[idx_to_entity[i.item()] for i in entity_features_manual.nonzero()[0]]"
   ]
  },
  {
   "cell_type": "markdown",
   "id": "5adbf845-7bd6-45a5-b6b4-1dff55ced133",
   "metadata": {},
   "source": [
    "### Different Entity Types"
   ]
  },
  {
   "cell_type": "code",
   "execution_count": 47,
   "id": "876bb68e-21bf-43d9-9f75-b576cb499740",
   "metadata": {},
   "outputs": [],
   "source": [
    "message = \"I want to open a savings account and travel to Berlin\"\n",
    "user_message = UserMessage(text=message, sender_id=\"test_user\")"
   ]
  },
  {
   "cell_type": "code",
   "execution_count": 48,
   "id": "9086613b-e1dd-4281-b11c-9b7280c37371",
   "metadata": {
    "scrolled": true,
    "tags": []
   },
   "outputs": [
    {
     "data": {
      "text/plain": [
       "{'text': 'I want to open a savings account and travel to Berlin',\n",
       " 'intent': {'id': -4713551111634206545,\n",
       "  'name': 'inform',\n",
       "  'confidence': 0.9999034404754639},\n",
       " 'entities': [{'entity': 'account',\n",
       "   'start': 17,\n",
       "   'end': 32,\n",
       "   'confidence_entity': 0.990652322769165,\n",
       "   'value': 'savings account',\n",
       "   'extractor': 'DIETClassifier'},\n",
       "  {'entity': 'city',\n",
       "   'start': 47,\n",
       "   'end': 53,\n",
       "   'confidence_entity': 0.9859669804573059,\n",
       "   'value': 'Berlin',\n",
       "   'extractor': 'DIETClassifier'}],\n",
       " 'intent_ranking': [{'id': -4713551111634206545,\n",
       "   'name': 'inform',\n",
       "   'confidence': 0.9999034404754639},\n",
       "  {'id': -6694443392625421003,\n",
       "   'name': 'bot_challenge',\n",
       "   'confidence': 5.4289816034724936e-05},\n",
       "  {'id': -7784688068645847004,\n",
       "   'name': 'goodbye',\n",
       "   'confidence': 1.696464460110292e-05},\n",
       "  {'id': 1335942896814238086,\n",
       "   'name': 'affirm',\n",
       "   'confidence': 1.6590651284786873e-05},\n",
       "  {'id': 4390007749353229196,\n",
       "   'name': 'deny',\n",
       "   'confidence': 4.576474111672724e-06},\n",
       "  {'id': -7509306822527489582,\n",
       "   'name': 'mood_unhappy',\n",
       "   'confidence': 2.335293174837716e-06},\n",
       "  {'id': 5881328340418250069,\n",
       "   'name': 'mood_great',\n",
       "   'confidence': 1.2757759577652905e-06},\n",
       "  {'id': 5131837534165408679,\n",
       "   'name': 'greet',\n",
       "   'confidence': 5.209366804592719e-07}],\n",
       " 'response_selector': {'all_retrieval_intents': [],\n",
       "  'default': {'response': {'id': None,\n",
       "    'responses': None,\n",
       "    'response_templates': None,\n",
       "    'confidence': 0.0,\n",
       "    'intent_response_key': None,\n",
       "    'utter_action': 'utter_None',\n",
       "    'template_name': 'utter_None'},\n",
       "   'ranking': []}}}"
      ]
     },
     "execution_count": 48,
     "metadata": {},
     "output_type": "execute_result"
    }
   ],
   "source": [
    "await message_processor.parse_message(user_message)"
   ]
  },
  {
   "cell_type": "code",
   "execution_count": 49,
   "id": "db45fdd2-25e5-412b-81f1-03e2e35bca37",
   "metadata": {},
   "outputs": [
    {
     "data": {
      "text/plain": [
       "{'user': {'intent': 'inform', 'entities': ('account', 'city')},\n",
       " 'prev_action': {'action_name': 'action_listen'}}"
      ]
     },
     "execution_count": 49,
     "metadata": {},
     "output_type": "execute_result"
    }
   ],
   "source": [
    "states, features = await create_prediction_states_and_features(user_message)\n",
    "states = states[-1]\n",
    "features = features[-1]\n",
    "\n",
    "states"
   ]
  },
  {
   "cell_type": "code",
   "execution_count": 50,
   "id": "153ac19d-9810-40a5-b392-ddb45d9424ca",
   "metadata": {},
   "outputs": [
    {
     "data": {
      "text/plain": [
       "array([1., 1., 0., 0., 0., 0., 0., 0., 0., 0.], dtype=float32)"
      ]
     },
     "execution_count": 50,
     "metadata": {},
     "output_type": "execute_result"
    }
   ],
   "source": [
    "sub_state = states['user']\n",
    "\n",
    "entity_features_manual = ssf._create_features(sub_state, 'entities')[0].features.flatten()\n",
    "entity_features_manual"
   ]
  },
  {
   "cell_type": "code",
   "execution_count": 51,
   "id": "50dec416-578b-4e40-8270-bdb41c9654e4",
   "metadata": {},
   "outputs": [],
   "source": [
    "assert np.array_equal(entity_features_manual, extract_features(features, 'entities'))"
   ]
  },
  {
   "cell_type": "code",
   "execution_count": 52,
   "id": "a06bcae8-2391-46c8-a215-86ba169d3b6f",
   "metadata": {},
   "outputs": [
    {
     "data": {
      "text/plain": [
       "['account', 'city']"
      ]
     },
     "execution_count": 52,
     "metadata": {},
     "output_type": "execute_result"
    }
   ],
   "source": [
    "[idx_to_entity[i.item()] for i in entity_features_manual.nonzero()[0]]"
   ]
  },
  {
   "cell_type": "markdown",
   "id": "82e8a11b-ecec-4d94-a023-a04bb212b669",
   "metadata": {},
   "source": [
    "## Slots"
   ]
  },
  {
   "cell_type": "markdown",
   "id": "6f0ebc18-9dd1-4596-8fda-8bed798d775f",
   "metadata": {},
   "source": [
    "This is how the slots are mapped to indices:"
   ]
  },
  {
   "cell_type": "code",
   "execution_count": 53,
   "id": "c4bdc46b-d0bf-479f-b1d2-080ef144f237",
   "metadata": {},
   "outputs": [
    {
     "data": {
      "text/plain": [
       "{'cuisine_0': 0,\n",
       " 'is_authenticated_0': 1,\n",
       " 'is_authenticated_1': 2,\n",
       " 'risk_level_0': 3,\n",
       " 'risk_level_1': 4,\n",
       " 'risk_level_2': 5,\n",
       " 'risk_level_3': 6,\n",
       " 'temperature_0': 7,\n",
       " 'temperature_1': 8,\n",
       " 'shopping_items_0': 9}"
      ]
     },
     "execution_count": 53,
     "metadata": {},
     "output_type": "execute_result"
    }
   ],
   "source": [
    "s = ssf._default_feature_states['slots']\n",
    "s"
   ]
  },
  {
   "cell_type": "markdown",
   "id": "51804f6e-a43d-4463-98a6-d241a3e99eb3",
   "metadata": {},
   "source": [
    "Let's create a dataframe to store the values:"
   ]
  },
  {
   "cell_type": "code",
   "execution_count": 54,
   "id": "3eefc6bb-1b6d-47e1-bf83-038ad4d2ad1d",
   "metadata": {},
   "outputs": [
    {
     "data": {
      "text/html": [
       "<div>\n",
       "<style scoped>\n",
       "    .dataframe tbody tr th:only-of-type {\n",
       "        vertical-align: middle;\n",
       "    }\n",
       "\n",
       "    .dataframe tbody tr th {\n",
       "        vertical-align: top;\n",
       "    }\n",
       "\n",
       "    .dataframe thead th {\n",
       "        text-align: right;\n",
       "    }\n",
       "</style>\n",
       "<table border=\"1\" class=\"dataframe\">\n",
       "  <thead>\n",
       "    <tr style=\"text-align: right;\">\n",
       "      <th></th>\n",
       "      <th>value</th>\n",
       "    </tr>\n",
       "  </thead>\n",
       "  <tbody>\n",
       "    <tr>\n",
       "      <th>cuisine_0</th>\n",
       "      <td>&lt;NA&gt;</td>\n",
       "    </tr>\n",
       "    <tr>\n",
       "      <th>is_authenticated_0</th>\n",
       "      <td>&lt;NA&gt;</td>\n",
       "    </tr>\n",
       "    <tr>\n",
       "      <th>is_authenticated_1</th>\n",
       "      <td>&lt;NA&gt;</td>\n",
       "    </tr>\n",
       "    <tr>\n",
       "      <th>risk_level_0</th>\n",
       "      <td>&lt;NA&gt;</td>\n",
       "    </tr>\n",
       "    <tr>\n",
       "      <th>risk_level_1</th>\n",
       "      <td>&lt;NA&gt;</td>\n",
       "    </tr>\n",
       "    <tr>\n",
       "      <th>risk_level_2</th>\n",
       "      <td>&lt;NA&gt;</td>\n",
       "    </tr>\n",
       "    <tr>\n",
       "      <th>risk_level_3</th>\n",
       "      <td>&lt;NA&gt;</td>\n",
       "    </tr>\n",
       "    <tr>\n",
       "      <th>temperature_0</th>\n",
       "      <td>&lt;NA&gt;</td>\n",
       "    </tr>\n",
       "    <tr>\n",
       "      <th>temperature_1</th>\n",
       "      <td>&lt;NA&gt;</td>\n",
       "    </tr>\n",
       "    <tr>\n",
       "      <th>shopping_items_0</th>\n",
       "      <td>&lt;NA&gt;</td>\n",
       "    </tr>\n",
       "  </tbody>\n",
       "</table>\n",
       "</div>"
      ],
      "text/plain": [
       "                   value\n",
       "cuisine_0           <NA>\n",
       "is_authenticated_0  <NA>\n",
       "is_authenticated_1  <NA>\n",
       "risk_level_0        <NA>\n",
       "risk_level_1        <NA>\n",
       "risk_level_2        <NA>\n",
       "risk_level_3        <NA>\n",
       "temperature_0       <NA>\n",
       "temperature_1       <NA>\n",
       "shopping_items_0    <NA>"
      ]
     },
     "execution_count": 54,
     "metadata": {},
     "output_type": "execute_result"
    }
   ],
   "source": [
    "df_slot_features = pd.DataFrame(s, index = [0]).transpose().rename(columns = {0:\"value\"})\n",
    "df_slot_features['value'] = pd.NA\n",
    "df_slot_features"
   ]
  },
  {
   "cell_type": "markdown",
   "id": "fcf56735-8e5e-48f3-a236-a605f90018d5",
   "metadata": {},
   "source": [
    "A tracker to store the slot events:"
   ]
  },
  {
   "cell_type": "code",
   "execution_count": 55,
   "id": "a291dd19-fae4-4115-ab72-276febff8314",
   "metadata": {},
   "outputs": [],
   "source": [
    "t = await get_tracker(message_processor, user_message)"
   ]
  },
  {
   "cell_type": "markdown",
   "id": "1f28e4b4-13ea-425f-940f-3d6ff82fac96",
   "metadata": {},
   "source": [
    "### Boolean Slots"
   ]
  },
  {
   "cell_type": "markdown",
   "id": "3ce7133d-da8e-44ec-89c6-9dae9c839f57",
   "metadata": {},
   "source": [
    "If the value is False: "
   ]
  },
  {
   "cell_type": "code",
   "execution_count": 56,
   "id": "8f143a3f-10f1-48e9-b7d7-ec319749c0f8",
   "metadata": {},
   "outputs": [],
   "source": [
    "s = SlotSet(\"is_authenticated\", False)"
   ]
  },
  {
   "cell_type": "code",
   "execution_count": 57,
   "id": "36aebe98-f6f9-4ea9-965a-e43f7a9fbfce",
   "metadata": {},
   "outputs": [
    {
     "data": {
      "text/plain": [
       "[{'slots': {'is_authenticated': (1.0, 0.0)}}]"
      ]
     },
     "execution_count": 57,
     "metadata": {},
     "output_type": "execute_result"
    }
   ],
   "source": [
    "states, features = get_slot_prediction_states_and_features(t, s)\n",
    "states"
   ]
  },
  {
   "cell_type": "code",
   "execution_count": 58,
   "id": "9ab2c5b7-2c0b-4083-87e9-37148360cb38",
   "metadata": {},
   "outputs": [
    {
     "data": {
      "text/plain": [
       "array([0., 1., 0., 0., 0., 0., 0., 0., 0., 0.], dtype=float32)"
      ]
     },
     "execution_count": 58,
     "metadata": {},
     "output_type": "execute_result"
    }
   ],
   "source": [
    "slot_features = extract_features(features, 'slots')\n",
    "slot_features"
   ]
  },
  {
   "cell_type": "code",
   "execution_count": 59,
   "id": "e27bcec4-1c9d-488b-877d-c0d1490910ca",
   "metadata": {},
   "outputs": [
    {
     "data": {
      "text/html": [
       "<div>\n",
       "<style scoped>\n",
       "    .dataframe tbody tr th:only-of-type {\n",
       "        vertical-align: middle;\n",
       "    }\n",
       "\n",
       "    .dataframe tbody tr th {\n",
       "        vertical-align: top;\n",
       "    }\n",
       "\n",
       "    .dataframe thead th {\n",
       "        text-align: right;\n",
       "    }\n",
       "</style>\n",
       "<table border=\"1\" class=\"dataframe\">\n",
       "  <thead>\n",
       "    <tr style=\"text-align: right;\">\n",
       "      <th></th>\n",
       "      <th>value</th>\n",
       "    </tr>\n",
       "  </thead>\n",
       "  <tbody>\n",
       "    <tr>\n",
       "      <th>cuisine_0</th>\n",
       "      <td>0</td>\n",
       "    </tr>\n",
       "    <tr>\n",
       "      <th>is_authenticated_0</th>\n",
       "      <td>1</td>\n",
       "    </tr>\n",
       "    <tr>\n",
       "      <th>is_authenticated_1</th>\n",
       "      <td>0</td>\n",
       "    </tr>\n",
       "    <tr>\n",
       "      <th>risk_level_0</th>\n",
       "      <td>0</td>\n",
       "    </tr>\n",
       "    <tr>\n",
       "      <th>risk_level_1</th>\n",
       "      <td>0</td>\n",
       "    </tr>\n",
       "    <tr>\n",
       "      <th>risk_level_2</th>\n",
       "      <td>0</td>\n",
       "    </tr>\n",
       "    <tr>\n",
       "      <th>risk_level_3</th>\n",
       "      <td>0</td>\n",
       "    </tr>\n",
       "    <tr>\n",
       "      <th>temperature_0</th>\n",
       "      <td>0</td>\n",
       "    </tr>\n",
       "    <tr>\n",
       "      <th>temperature_1</th>\n",
       "      <td>0</td>\n",
       "    </tr>\n",
       "    <tr>\n",
       "      <th>shopping_items_0</th>\n",
       "      <td>0</td>\n",
       "    </tr>\n",
       "  </tbody>\n",
       "</table>\n",
       "</div>"
      ],
      "text/plain": [
       "                    value\n",
       "cuisine_0               0\n",
       "is_authenticated_0      1\n",
       "is_authenticated_1      0\n",
       "risk_level_0            0\n",
       "risk_level_1            0\n",
       "risk_level_2            0\n",
       "risk_level_3            0\n",
       "temperature_0           0\n",
       "temperature_1           0\n",
       "shopping_items_0        0"
      ]
     },
     "execution_count": 59,
     "metadata": {},
     "output_type": "execute_result"
    }
   ],
   "source": [
    "df_slot_features['value'] = slot_features.astype('int')\n",
    "df_slot_features"
   ]
  },
  {
   "cell_type": "markdown",
   "id": "52155bf7-2f18-4b92-bc03-c6ccf53dda99",
   "metadata": {},
   "source": [
    "If the value is True:"
   ]
  },
  {
   "cell_type": "code",
   "execution_count": 60,
   "id": "ded76def-dbda-4383-84da-5d0a986d43d2",
   "metadata": {},
   "outputs": [
    {
     "data": {
      "text/html": [
       "<div>\n",
       "<style scoped>\n",
       "    .dataframe tbody tr th:only-of-type {\n",
       "        vertical-align: middle;\n",
       "    }\n",
       "\n",
       "    .dataframe tbody tr th {\n",
       "        vertical-align: top;\n",
       "    }\n",
       "\n",
       "    .dataframe thead th {\n",
       "        text-align: right;\n",
       "    }\n",
       "</style>\n",
       "<table border=\"1\" class=\"dataframe\">\n",
       "  <thead>\n",
       "    <tr style=\"text-align: right;\">\n",
       "      <th></th>\n",
       "      <th>value</th>\n",
       "    </tr>\n",
       "  </thead>\n",
       "  <tbody>\n",
       "    <tr>\n",
       "      <th>cuisine_0</th>\n",
       "      <td>0</td>\n",
       "    </tr>\n",
       "    <tr>\n",
       "      <th>is_authenticated_0</th>\n",
       "      <td>1</td>\n",
       "    </tr>\n",
       "    <tr>\n",
       "      <th>is_authenticated_1</th>\n",
       "      <td>1</td>\n",
       "    </tr>\n",
       "    <tr>\n",
       "      <th>risk_level_0</th>\n",
       "      <td>0</td>\n",
       "    </tr>\n",
       "    <tr>\n",
       "      <th>risk_level_1</th>\n",
       "      <td>0</td>\n",
       "    </tr>\n",
       "    <tr>\n",
       "      <th>risk_level_2</th>\n",
       "      <td>0</td>\n",
       "    </tr>\n",
       "    <tr>\n",
       "      <th>risk_level_3</th>\n",
       "      <td>0</td>\n",
       "    </tr>\n",
       "    <tr>\n",
       "      <th>temperature_0</th>\n",
       "      <td>0</td>\n",
       "    </tr>\n",
       "    <tr>\n",
       "      <th>temperature_1</th>\n",
       "      <td>0</td>\n",
       "    </tr>\n",
       "    <tr>\n",
       "      <th>shopping_items_0</th>\n",
       "      <td>0</td>\n",
       "    </tr>\n",
       "  </tbody>\n",
       "</table>\n",
       "</div>"
      ],
      "text/plain": [
       "                    value\n",
       "cuisine_0               0\n",
       "is_authenticated_0      1\n",
       "is_authenticated_1      1\n",
       "risk_level_0            0\n",
       "risk_level_1            0\n",
       "risk_level_2            0\n",
       "risk_level_3            0\n",
       "temperature_0           0\n",
       "temperature_1           0\n",
       "shopping_items_0        0"
      ]
     },
     "execution_count": 60,
     "metadata": {},
     "output_type": "execute_result"
    }
   ],
   "source": [
    "s = SlotSet(\"is_authenticated\", True)\n",
    "\n",
    "states, features = get_slot_prediction_states_and_features(t, s)\n",
    "\n",
    "slot_features = extract_features(features, 'slots')\n",
    "\n",
    "df_slot_features['value'] = slot_features.astype('int')\n",
    "df_slot_features"
   ]
  },
  {
   "cell_type": "markdown",
   "id": "3bd83581-4773-4658-b3cd-9fd784b49d26",
   "metadata": {},
   "source": [
    "### Categorical Slots"
   ]
  },
  {
   "cell_type": "markdown",
   "id": "fc5ae5f0-a3b4-4a09-88b5-8bb135da0d71",
   "metadata": {},
   "source": [
    "If the value is one of the defined levels:"
   ]
  },
  {
   "cell_type": "code",
   "execution_count": 61,
   "id": "054fc978-ec97-4033-9e2a-6052ab9e5246",
   "metadata": {},
   "outputs": [
    {
     "data": {
      "text/html": [
       "<div>\n",
       "<style scoped>\n",
       "    .dataframe tbody tr th:only-of-type {\n",
       "        vertical-align: middle;\n",
       "    }\n",
       "\n",
       "    .dataframe tbody tr th {\n",
       "        vertical-align: top;\n",
       "    }\n",
       "\n",
       "    .dataframe thead th {\n",
       "        text-align: right;\n",
       "    }\n",
       "</style>\n",
       "<table border=\"1\" class=\"dataframe\">\n",
       "  <thead>\n",
       "    <tr style=\"text-align: right;\">\n",
       "      <th></th>\n",
       "      <th>value</th>\n",
       "    </tr>\n",
       "  </thead>\n",
       "  <tbody>\n",
       "    <tr>\n",
       "      <th>cuisine_0</th>\n",
       "      <td>0</td>\n",
       "    </tr>\n",
       "    <tr>\n",
       "      <th>is_authenticated_0</th>\n",
       "      <td>0</td>\n",
       "    </tr>\n",
       "    <tr>\n",
       "      <th>is_authenticated_1</th>\n",
       "      <td>0</td>\n",
       "    </tr>\n",
       "    <tr>\n",
       "      <th>risk_level_0</th>\n",
       "      <td>1</td>\n",
       "    </tr>\n",
       "    <tr>\n",
       "      <th>risk_level_1</th>\n",
       "      <td>0</td>\n",
       "    </tr>\n",
       "    <tr>\n",
       "      <th>risk_level_2</th>\n",
       "      <td>0</td>\n",
       "    </tr>\n",
       "    <tr>\n",
       "      <th>risk_level_3</th>\n",
       "      <td>0</td>\n",
       "    </tr>\n",
       "    <tr>\n",
       "      <th>temperature_0</th>\n",
       "      <td>0</td>\n",
       "    </tr>\n",
       "    <tr>\n",
       "      <th>temperature_1</th>\n",
       "      <td>0</td>\n",
       "    </tr>\n",
       "    <tr>\n",
       "      <th>shopping_items_0</th>\n",
       "      <td>0</td>\n",
       "    </tr>\n",
       "  </tbody>\n",
       "</table>\n",
       "</div>"
      ],
      "text/plain": [
       "                    value\n",
       "cuisine_0               0\n",
       "is_authenticated_0      0\n",
       "is_authenticated_1      0\n",
       "risk_level_0            1\n",
       "risk_level_1            0\n",
       "risk_level_2            0\n",
       "risk_level_3            0\n",
       "temperature_0           0\n",
       "temperature_1           0\n",
       "shopping_items_0        0"
      ]
     },
     "execution_count": 61,
     "metadata": {},
     "output_type": "execute_result"
    }
   ],
   "source": [
    "s = SlotSet(\"risk_level\", \"low\")\n",
    "\n",
    "states, features = get_slot_prediction_states_and_features(t, s)\n",
    "\n",
    "slot_features = extract_features(features, 'slots')\n",
    "\n",
    "df_slot_features['value'] = slot_features.astype('int')\n",
    "df_slot_features"
   ]
  },
  {
   "cell_type": "code",
   "execution_count": 62,
   "id": "45995012-22f5-47d0-a524-5a91a0b323f3",
   "metadata": {},
   "outputs": [
    {
     "data": {
      "text/html": [
       "<div>\n",
       "<style scoped>\n",
       "    .dataframe tbody tr th:only-of-type {\n",
       "        vertical-align: middle;\n",
       "    }\n",
       "\n",
       "    .dataframe tbody tr th {\n",
       "        vertical-align: top;\n",
       "    }\n",
       "\n",
       "    .dataframe thead th {\n",
       "        text-align: right;\n",
       "    }\n",
       "</style>\n",
       "<table border=\"1\" class=\"dataframe\">\n",
       "  <thead>\n",
       "    <tr style=\"text-align: right;\">\n",
       "      <th></th>\n",
       "      <th>value</th>\n",
       "    </tr>\n",
       "  </thead>\n",
       "  <tbody>\n",
       "    <tr>\n",
       "      <th>cuisine_0</th>\n",
       "      <td>0</td>\n",
       "    </tr>\n",
       "    <tr>\n",
       "      <th>is_authenticated_0</th>\n",
       "      <td>0</td>\n",
       "    </tr>\n",
       "    <tr>\n",
       "      <th>is_authenticated_1</th>\n",
       "      <td>0</td>\n",
       "    </tr>\n",
       "    <tr>\n",
       "      <th>risk_level_0</th>\n",
       "      <td>0</td>\n",
       "    </tr>\n",
       "    <tr>\n",
       "      <th>risk_level_1</th>\n",
       "      <td>1</td>\n",
       "    </tr>\n",
       "    <tr>\n",
       "      <th>risk_level_2</th>\n",
       "      <td>0</td>\n",
       "    </tr>\n",
       "    <tr>\n",
       "      <th>risk_level_3</th>\n",
       "      <td>0</td>\n",
       "    </tr>\n",
       "    <tr>\n",
       "      <th>temperature_0</th>\n",
       "      <td>0</td>\n",
       "    </tr>\n",
       "    <tr>\n",
       "      <th>temperature_1</th>\n",
       "      <td>0</td>\n",
       "    </tr>\n",
       "    <tr>\n",
       "      <th>shopping_items_0</th>\n",
       "      <td>0</td>\n",
       "    </tr>\n",
       "  </tbody>\n",
       "</table>\n",
       "</div>"
      ],
      "text/plain": [
       "                    value\n",
       "cuisine_0               0\n",
       "is_authenticated_0      0\n",
       "is_authenticated_1      0\n",
       "risk_level_0            0\n",
       "risk_level_1            1\n",
       "risk_level_2            0\n",
       "risk_level_3            0\n",
       "temperature_0           0\n",
       "temperature_1           0\n",
       "shopping_items_0        0"
      ]
     },
     "execution_count": 62,
     "metadata": {},
     "output_type": "execute_result"
    }
   ],
   "source": [
    "s = SlotSet(\"risk_level\", \"medium\")\n",
    "\n",
    "states, features = get_slot_prediction_states_and_features(t, s)\n",
    "\n",
    "slot_features = extract_features(features, 'slots')\n",
    "\n",
    "df_slot_features['value'] = slot_features.astype('int')\n",
    "df_slot_features"
   ]
  },
  {
   "cell_type": "code",
   "execution_count": 63,
   "id": "e852c64e-610f-4a66-93e0-53bf10cc32bc",
   "metadata": {},
   "outputs": [
    {
     "data": {
      "text/html": [
       "<div>\n",
       "<style scoped>\n",
       "    .dataframe tbody tr th:only-of-type {\n",
       "        vertical-align: middle;\n",
       "    }\n",
       "\n",
       "    .dataframe tbody tr th {\n",
       "        vertical-align: top;\n",
       "    }\n",
       "\n",
       "    .dataframe thead th {\n",
       "        text-align: right;\n",
       "    }\n",
       "</style>\n",
       "<table border=\"1\" class=\"dataframe\">\n",
       "  <thead>\n",
       "    <tr style=\"text-align: right;\">\n",
       "      <th></th>\n",
       "      <th>value</th>\n",
       "    </tr>\n",
       "  </thead>\n",
       "  <tbody>\n",
       "    <tr>\n",
       "      <th>cuisine_0</th>\n",
       "      <td>0</td>\n",
       "    </tr>\n",
       "    <tr>\n",
       "      <th>is_authenticated_0</th>\n",
       "      <td>0</td>\n",
       "    </tr>\n",
       "    <tr>\n",
       "      <th>is_authenticated_1</th>\n",
       "      <td>0</td>\n",
       "    </tr>\n",
       "    <tr>\n",
       "      <th>risk_level_0</th>\n",
       "      <td>0</td>\n",
       "    </tr>\n",
       "    <tr>\n",
       "      <th>risk_level_1</th>\n",
       "      <td>0</td>\n",
       "    </tr>\n",
       "    <tr>\n",
       "      <th>risk_level_2</th>\n",
       "      <td>1</td>\n",
       "    </tr>\n",
       "    <tr>\n",
       "      <th>risk_level_3</th>\n",
       "      <td>0</td>\n",
       "    </tr>\n",
       "    <tr>\n",
       "      <th>temperature_0</th>\n",
       "      <td>0</td>\n",
       "    </tr>\n",
       "    <tr>\n",
       "      <th>temperature_1</th>\n",
       "      <td>0</td>\n",
       "    </tr>\n",
       "    <tr>\n",
       "      <th>shopping_items_0</th>\n",
       "      <td>0</td>\n",
       "    </tr>\n",
       "  </tbody>\n",
       "</table>\n",
       "</div>"
      ],
      "text/plain": [
       "                    value\n",
       "cuisine_0               0\n",
       "is_authenticated_0      0\n",
       "is_authenticated_1      0\n",
       "risk_level_0            0\n",
       "risk_level_1            0\n",
       "risk_level_2            1\n",
       "risk_level_3            0\n",
       "temperature_0           0\n",
       "temperature_1           0\n",
       "shopping_items_0        0"
      ]
     },
     "execution_count": 63,
     "metadata": {},
     "output_type": "execute_result"
    }
   ],
   "source": [
    "s = SlotSet(\"risk_level\", \"high\")\n",
    "\n",
    "states, features = get_slot_prediction_states_and_features(t, s)\n",
    "\n",
    "slot_features = extract_features(features, 'slots')\n",
    "\n",
    "df_slot_features['value'] = slot_features.astype('int')\n",
    "df_slot_features"
   ]
  },
  {
   "cell_type": "markdown",
   "id": "a0f68dfb-30ff-4d22-b52c-9626a6143b04",
   "metadata": {},
   "source": [
    "If the value is not one of the defined levels:"
   ]
  },
  {
   "cell_type": "code",
   "execution_count": 64,
   "id": "54c7c159-ec2c-48e6-bbfa-070765dba70a",
   "metadata": {},
   "outputs": [
    {
     "data": {
      "text/html": [
       "<div>\n",
       "<style scoped>\n",
       "    .dataframe tbody tr th:only-of-type {\n",
       "        vertical-align: middle;\n",
       "    }\n",
       "\n",
       "    .dataframe tbody tr th {\n",
       "        vertical-align: top;\n",
       "    }\n",
       "\n",
       "    .dataframe thead th {\n",
       "        text-align: right;\n",
       "    }\n",
       "</style>\n",
       "<table border=\"1\" class=\"dataframe\">\n",
       "  <thead>\n",
       "    <tr style=\"text-align: right;\">\n",
       "      <th></th>\n",
       "      <th>value</th>\n",
       "    </tr>\n",
       "  </thead>\n",
       "  <tbody>\n",
       "    <tr>\n",
       "      <th>cuisine_0</th>\n",
       "      <td>0</td>\n",
       "    </tr>\n",
       "    <tr>\n",
       "      <th>is_authenticated_0</th>\n",
       "      <td>0</td>\n",
       "    </tr>\n",
       "    <tr>\n",
       "      <th>is_authenticated_1</th>\n",
       "      <td>0</td>\n",
       "    </tr>\n",
       "    <tr>\n",
       "      <th>risk_level_0</th>\n",
       "      <td>0</td>\n",
       "    </tr>\n",
       "    <tr>\n",
       "      <th>risk_level_1</th>\n",
       "      <td>0</td>\n",
       "    </tr>\n",
       "    <tr>\n",
       "      <th>risk_level_2</th>\n",
       "      <td>0</td>\n",
       "    </tr>\n",
       "    <tr>\n",
       "      <th>risk_level_3</th>\n",
       "      <td>1</td>\n",
       "    </tr>\n",
       "    <tr>\n",
       "      <th>temperature_0</th>\n",
       "      <td>0</td>\n",
       "    </tr>\n",
       "    <tr>\n",
       "      <th>temperature_1</th>\n",
       "      <td>0</td>\n",
       "    </tr>\n",
       "    <tr>\n",
       "      <th>shopping_items_0</th>\n",
       "      <td>0</td>\n",
       "    </tr>\n",
       "  </tbody>\n",
       "</table>\n",
       "</div>"
      ],
      "text/plain": [
       "                    value\n",
       "cuisine_0               0\n",
       "is_authenticated_0      0\n",
       "is_authenticated_1      0\n",
       "risk_level_0            0\n",
       "risk_level_1            0\n",
       "risk_level_2            0\n",
       "risk_level_3            1\n",
       "temperature_0           0\n",
       "temperature_1           0\n",
       "shopping_items_0        0"
      ]
     },
     "execution_count": 64,
     "metadata": {},
     "output_type": "execute_result"
    }
   ],
   "source": [
    "s = SlotSet(\"risk_level\", \"super high\")\n",
    "\n",
    "states, features = get_slot_prediction_states_and_features(t, s)\n",
    "\n",
    "slot_features = extract_features(features, 'slots')\n",
    "\n",
    "df_slot_features['value'] = slot_features.astype('int')\n",
    "df_slot_features"
   ]
  },
  {
   "cell_type": "markdown",
   "id": "df4255ce-1c11-4f25-80ad-2251ad6e7c57",
   "metadata": {},
   "source": [
    "### Text Slots"
   ]
  },
  {
   "cell_type": "markdown",
   "id": "18ac4ec5-1900-4571-a74a-c525a9a4f3df",
   "metadata": {},
   "source": [
    "Any value will make the slot a 1:"
   ]
  },
  {
   "cell_type": "code",
   "execution_count": 65,
   "id": "3ec77c5b-3def-4695-8b73-16bb30ce3c6a",
   "metadata": {},
   "outputs": [
    {
     "data": {
      "text/html": [
       "<div>\n",
       "<style scoped>\n",
       "    .dataframe tbody tr th:only-of-type {\n",
       "        vertical-align: middle;\n",
       "    }\n",
       "\n",
       "    .dataframe tbody tr th {\n",
       "        vertical-align: top;\n",
       "    }\n",
       "\n",
       "    .dataframe thead th {\n",
       "        text-align: right;\n",
       "    }\n",
       "</style>\n",
       "<table border=\"1\" class=\"dataframe\">\n",
       "  <thead>\n",
       "    <tr style=\"text-align: right;\">\n",
       "      <th></th>\n",
       "      <th>value</th>\n",
       "    </tr>\n",
       "  </thead>\n",
       "  <tbody>\n",
       "    <tr>\n",
       "      <th>cuisine_0</th>\n",
       "      <td>1</td>\n",
       "    </tr>\n",
       "    <tr>\n",
       "      <th>is_authenticated_0</th>\n",
       "      <td>0</td>\n",
       "    </tr>\n",
       "    <tr>\n",
       "      <th>is_authenticated_1</th>\n",
       "      <td>0</td>\n",
       "    </tr>\n",
       "    <tr>\n",
       "      <th>risk_level_0</th>\n",
       "      <td>0</td>\n",
       "    </tr>\n",
       "    <tr>\n",
       "      <th>risk_level_1</th>\n",
       "      <td>0</td>\n",
       "    </tr>\n",
       "    <tr>\n",
       "      <th>risk_level_2</th>\n",
       "      <td>0</td>\n",
       "    </tr>\n",
       "    <tr>\n",
       "      <th>risk_level_3</th>\n",
       "      <td>0</td>\n",
       "    </tr>\n",
       "    <tr>\n",
       "      <th>temperature_0</th>\n",
       "      <td>0</td>\n",
       "    </tr>\n",
       "    <tr>\n",
       "      <th>temperature_1</th>\n",
       "      <td>0</td>\n",
       "    </tr>\n",
       "    <tr>\n",
       "      <th>shopping_items_0</th>\n",
       "      <td>0</td>\n",
       "    </tr>\n",
       "  </tbody>\n",
       "</table>\n",
       "</div>"
      ],
      "text/plain": [
       "                    value\n",
       "cuisine_0               1\n",
       "is_authenticated_0      0\n",
       "is_authenticated_1      0\n",
       "risk_level_0            0\n",
       "risk_level_1            0\n",
       "risk_level_2            0\n",
       "risk_level_3            0\n",
       "temperature_0           0\n",
       "temperature_1           0\n",
       "shopping_items_0        0"
      ]
     },
     "execution_count": 65,
     "metadata": {},
     "output_type": "execute_result"
    }
   ],
   "source": [
    "s = SlotSet(\"cuisine\", \"foo\")\n",
    "\n",
    "states, features = get_slot_prediction_states_and_features(t, s)\n",
    "\n",
    "slot_features = extract_features(features, 'slots')\n",
    "\n",
    "df_slot_features['value'] = slot_features.astype('int')\n",
    "df_slot_features"
   ]
  },
  {
   "cell_type": "code",
   "execution_count": 66,
   "id": "7ed0d92b-3612-4d50-a80d-b496083ed49b",
   "metadata": {},
   "outputs": [
    {
     "data": {
      "text/html": [
       "<div>\n",
       "<style scoped>\n",
       "    .dataframe tbody tr th:only-of-type {\n",
       "        vertical-align: middle;\n",
       "    }\n",
       "\n",
       "    .dataframe tbody tr th {\n",
       "        vertical-align: top;\n",
       "    }\n",
       "\n",
       "    .dataframe thead th {\n",
       "        text-align: right;\n",
       "    }\n",
       "</style>\n",
       "<table border=\"1\" class=\"dataframe\">\n",
       "  <thead>\n",
       "    <tr style=\"text-align: right;\">\n",
       "      <th></th>\n",
       "      <th>value</th>\n",
       "    </tr>\n",
       "  </thead>\n",
       "  <tbody>\n",
       "    <tr>\n",
       "      <th>cuisine_0</th>\n",
       "      <td>1</td>\n",
       "    </tr>\n",
       "    <tr>\n",
       "      <th>is_authenticated_0</th>\n",
       "      <td>0</td>\n",
       "    </tr>\n",
       "    <tr>\n",
       "      <th>is_authenticated_1</th>\n",
       "      <td>0</td>\n",
       "    </tr>\n",
       "    <tr>\n",
       "      <th>risk_level_0</th>\n",
       "      <td>0</td>\n",
       "    </tr>\n",
       "    <tr>\n",
       "      <th>risk_level_1</th>\n",
       "      <td>0</td>\n",
       "    </tr>\n",
       "    <tr>\n",
       "      <th>risk_level_2</th>\n",
       "      <td>0</td>\n",
       "    </tr>\n",
       "    <tr>\n",
       "      <th>risk_level_3</th>\n",
       "      <td>0</td>\n",
       "    </tr>\n",
       "    <tr>\n",
       "      <th>temperature_0</th>\n",
       "      <td>0</td>\n",
       "    </tr>\n",
       "    <tr>\n",
       "      <th>temperature_1</th>\n",
       "      <td>0</td>\n",
       "    </tr>\n",
       "    <tr>\n",
       "      <th>shopping_items_0</th>\n",
       "      <td>0</td>\n",
       "    </tr>\n",
       "  </tbody>\n",
       "</table>\n",
       "</div>"
      ],
      "text/plain": [
       "                    value\n",
       "cuisine_0               1\n",
       "is_authenticated_0      0\n",
       "is_authenticated_1      0\n",
       "risk_level_0            0\n",
       "risk_level_1            0\n",
       "risk_level_2            0\n",
       "risk_level_3            0\n",
       "temperature_0           0\n",
       "temperature_1           0\n",
       "shopping_items_0        0"
      ]
     },
     "execution_count": 66,
     "metadata": {},
     "output_type": "execute_result"
    }
   ],
   "source": [
    "s = SlotSet(\"cuisine\", \"bar\")\n",
    "\n",
    "states, features = get_slot_prediction_states_and_features(t, s)\n",
    "\n",
    "slot_features = extract_features(features, 'slots')\n",
    "\n",
    "df_slot_features['value'] = slot_features.astype('int')\n",
    "df_slot_features"
   ]
  },
  {
   "cell_type": "markdown",
   "id": "14babd92-1e64-4470-87b9-2a9e2065df2f",
   "metadata": {},
   "source": [
    "### Float Slots"
   ]
  },
  {
   "cell_type": "markdown",
   "id": "345b346d-f0f1-4875-9fd7-4df21113f4f5",
   "metadata": {},
   "source": [
    "If value is within the bounds:"
   ]
  },
  {
   "cell_type": "code",
   "execution_count": 67,
   "id": "e6125ed6-3081-4434-998b-fdb9bd590cfc",
   "metadata": {},
   "outputs": [
    {
     "data": {
      "text/html": [
       "<div>\n",
       "<style scoped>\n",
       "    .dataframe tbody tr th:only-of-type {\n",
       "        vertical-align: middle;\n",
       "    }\n",
       "\n",
       "    .dataframe tbody tr th {\n",
       "        vertical-align: top;\n",
       "    }\n",
       "\n",
       "    .dataframe thead th {\n",
       "        text-align: right;\n",
       "    }\n",
       "</style>\n",
       "<table border=\"1\" class=\"dataframe\">\n",
       "  <thead>\n",
       "    <tr style=\"text-align: right;\">\n",
       "      <th></th>\n",
       "      <th>value</th>\n",
       "    </tr>\n",
       "  </thead>\n",
       "  <tbody>\n",
       "    <tr>\n",
       "      <th>cuisine_0</th>\n",
       "      <td>0</td>\n",
       "    </tr>\n",
       "    <tr>\n",
       "      <th>is_authenticated_0</th>\n",
       "      <td>0</td>\n",
       "    </tr>\n",
       "    <tr>\n",
       "      <th>is_authenticated_1</th>\n",
       "      <td>0</td>\n",
       "    </tr>\n",
       "    <tr>\n",
       "      <th>risk_level_0</th>\n",
       "      <td>0</td>\n",
       "    </tr>\n",
       "    <tr>\n",
       "      <th>risk_level_1</th>\n",
       "      <td>0</td>\n",
       "    </tr>\n",
       "    <tr>\n",
       "      <th>risk_level_2</th>\n",
       "      <td>0</td>\n",
       "    </tr>\n",
       "    <tr>\n",
       "      <th>risk_level_3</th>\n",
       "      <td>0</td>\n",
       "    </tr>\n",
       "    <tr>\n",
       "      <th>temperature_0</th>\n",
       "      <td>1</td>\n",
       "    </tr>\n",
       "    <tr>\n",
       "      <th>temperature_1</th>\n",
       "      <td>0</td>\n",
       "    </tr>\n",
       "    <tr>\n",
       "      <th>shopping_items_0</th>\n",
       "      <td>0</td>\n",
       "    </tr>\n",
       "  </tbody>\n",
       "</table>\n",
       "</div>"
      ],
      "text/plain": [
       "                    value\n",
       "cuisine_0               0\n",
       "is_authenticated_0      0\n",
       "is_authenticated_1      0\n",
       "risk_level_0            0\n",
       "risk_level_1            0\n",
       "risk_level_2            0\n",
       "risk_level_3            0\n",
       "temperature_0           1\n",
       "temperature_1           0\n",
       "shopping_items_0        0"
      ]
     },
     "execution_count": 67,
     "metadata": {},
     "output_type": "execute_result"
    }
   ],
   "source": [
    "s = SlotSet(\"temperature\", 0)\n",
    "\n",
    "states, features = get_slot_prediction_states_and_features(t, s)\n",
    "\n",
    "slot_features = extract_features(features, 'slots')\n",
    "\n",
    "df_slot_features['value'] = slot_features.astype('int')\n",
    "df_slot_features"
   ]
  },
  {
   "cell_type": "markdown",
   "id": "b9ed8abf-9f8f-42b7-be02-b4d0fa95bed8",
   "metadata": {},
   "source": [
    "If value is less than the lower bound:"
   ]
  },
  {
   "cell_type": "code",
   "execution_count": 68,
   "id": "26dc1348-cdeb-4c5b-a308-b6080d598a51",
   "metadata": {},
   "outputs": [
    {
     "data": {
      "text/html": [
       "<div>\n",
       "<style scoped>\n",
       "    .dataframe tbody tr th:only-of-type {\n",
       "        vertical-align: middle;\n",
       "    }\n",
       "\n",
       "    .dataframe tbody tr th {\n",
       "        vertical-align: top;\n",
       "    }\n",
       "\n",
       "    .dataframe thead th {\n",
       "        text-align: right;\n",
       "    }\n",
       "</style>\n",
       "<table border=\"1\" class=\"dataframe\">\n",
       "  <thead>\n",
       "    <tr style=\"text-align: right;\">\n",
       "      <th></th>\n",
       "      <th>value</th>\n",
       "    </tr>\n",
       "  </thead>\n",
       "  <tbody>\n",
       "    <tr>\n",
       "      <th>cuisine_0</th>\n",
       "      <td>0</td>\n",
       "    </tr>\n",
       "    <tr>\n",
       "      <th>is_authenticated_0</th>\n",
       "      <td>0</td>\n",
       "    </tr>\n",
       "    <tr>\n",
       "      <th>is_authenticated_1</th>\n",
       "      <td>0</td>\n",
       "    </tr>\n",
       "    <tr>\n",
       "      <th>risk_level_0</th>\n",
       "      <td>0</td>\n",
       "    </tr>\n",
       "    <tr>\n",
       "      <th>risk_level_1</th>\n",
       "      <td>0</td>\n",
       "    </tr>\n",
       "    <tr>\n",
       "      <th>risk_level_2</th>\n",
       "      <td>0</td>\n",
       "    </tr>\n",
       "    <tr>\n",
       "      <th>risk_level_3</th>\n",
       "      <td>0</td>\n",
       "    </tr>\n",
       "    <tr>\n",
       "      <th>temperature_0</th>\n",
       "      <td>1</td>\n",
       "    </tr>\n",
       "    <tr>\n",
       "      <th>temperature_1</th>\n",
       "      <td>0</td>\n",
       "    </tr>\n",
       "    <tr>\n",
       "      <th>shopping_items_0</th>\n",
       "      <td>0</td>\n",
       "    </tr>\n",
       "  </tbody>\n",
       "</table>\n",
       "</div>"
      ],
      "text/plain": [
       "                    value\n",
       "cuisine_0               0\n",
       "is_authenticated_0      0\n",
       "is_authenticated_1      0\n",
       "risk_level_0            0\n",
       "risk_level_1            0\n",
       "risk_level_2            0\n",
       "risk_level_3            0\n",
       "temperature_0           1\n",
       "temperature_1           0\n",
       "shopping_items_0        0"
      ]
     },
     "execution_count": 68,
     "metadata": {},
     "output_type": "execute_result"
    }
   ],
   "source": [
    "s = SlotSet(\"temperature\", -200)\n",
    "\n",
    "states, features = get_slot_prediction_states_and_features(t, s)\n",
    "\n",
    "slot_features = extract_features(features, 'slots')\n",
    "\n",
    "df_slot_features['value'] = slot_features.astype('int')\n",
    "df_slot_features"
   ]
  },
  {
   "cell_type": "markdown",
   "id": "da848ff4-327b-4439-b46e-b2fef09d9c2a",
   "metadata": {},
   "source": [
    "If value is more than the upper bound:"
   ]
  },
  {
   "cell_type": "code",
   "execution_count": 69,
   "id": "664d7676-8962-415b-9ed6-9f95e13b3ca1",
   "metadata": {},
   "outputs": [
    {
     "data": {
      "text/html": [
       "<div>\n",
       "<style scoped>\n",
       "    .dataframe tbody tr th:only-of-type {\n",
       "        vertical-align: middle;\n",
       "    }\n",
       "\n",
       "    .dataframe tbody tr th {\n",
       "        vertical-align: top;\n",
       "    }\n",
       "\n",
       "    .dataframe thead th {\n",
       "        text-align: right;\n",
       "    }\n",
       "</style>\n",
       "<table border=\"1\" class=\"dataframe\">\n",
       "  <thead>\n",
       "    <tr style=\"text-align: right;\">\n",
       "      <th></th>\n",
       "      <th>value</th>\n",
       "    </tr>\n",
       "  </thead>\n",
       "  <tbody>\n",
       "    <tr>\n",
       "      <th>cuisine_0</th>\n",
       "      <td>0</td>\n",
       "    </tr>\n",
       "    <tr>\n",
       "      <th>is_authenticated_0</th>\n",
       "      <td>0</td>\n",
       "    </tr>\n",
       "    <tr>\n",
       "      <th>is_authenticated_1</th>\n",
       "      <td>0</td>\n",
       "    </tr>\n",
       "    <tr>\n",
       "      <th>risk_level_0</th>\n",
       "      <td>0</td>\n",
       "    </tr>\n",
       "    <tr>\n",
       "      <th>risk_level_1</th>\n",
       "      <td>0</td>\n",
       "    </tr>\n",
       "    <tr>\n",
       "      <th>risk_level_2</th>\n",
       "      <td>0</td>\n",
       "    </tr>\n",
       "    <tr>\n",
       "      <th>risk_level_3</th>\n",
       "      <td>0</td>\n",
       "    </tr>\n",
       "    <tr>\n",
       "      <th>temperature_0</th>\n",
       "      <td>1</td>\n",
       "    </tr>\n",
       "    <tr>\n",
       "      <th>temperature_1</th>\n",
       "      <td>1</td>\n",
       "    </tr>\n",
       "    <tr>\n",
       "      <th>shopping_items_0</th>\n",
       "      <td>0</td>\n",
       "    </tr>\n",
       "  </tbody>\n",
       "</table>\n",
       "</div>"
      ],
      "text/plain": [
       "                    value\n",
       "cuisine_0               0\n",
       "is_authenticated_0      0\n",
       "is_authenticated_1      0\n",
       "risk_level_0            0\n",
       "risk_level_1            0\n",
       "risk_level_2            0\n",
       "risk_level_3            0\n",
       "temperature_0           1\n",
       "temperature_1           1\n",
       "shopping_items_0        0"
      ]
     },
     "execution_count": 69,
     "metadata": {},
     "output_type": "execute_result"
    }
   ],
   "source": [
    "s = SlotSet(\"temperature\", 200)\n",
    "\n",
    "states, features = get_slot_prediction_states_and_features(t, s)\n",
    "\n",
    "slot_features = extract_features(features, 'slots')\n",
    "\n",
    "df_slot_features['value'] = slot_features.astype('int')\n",
    "df_slot_features"
   ]
  },
  {
   "cell_type": "markdown",
   "id": "16b67234-01fc-44dc-85ae-c92c52f550d7",
   "metadata": {},
   "source": [
    "### List Slots"
   ]
  },
  {
   "cell_type": "markdown",
   "id": "51eb3a64-76c7-4cc6-99b3-1e3df1c6879d",
   "metadata": {},
   "source": [
    "A non empty list:"
   ]
  },
  {
   "cell_type": "code",
   "execution_count": 70,
   "id": "bb35ba77-219c-4fe8-a7c8-3715bf7a7f17",
   "metadata": {},
   "outputs": [
    {
     "data": {
      "text/html": [
       "<div>\n",
       "<style scoped>\n",
       "    .dataframe tbody tr th:only-of-type {\n",
       "        vertical-align: middle;\n",
       "    }\n",
       "\n",
       "    .dataframe tbody tr th {\n",
       "        vertical-align: top;\n",
       "    }\n",
       "\n",
       "    .dataframe thead th {\n",
       "        text-align: right;\n",
       "    }\n",
       "</style>\n",
       "<table border=\"1\" class=\"dataframe\">\n",
       "  <thead>\n",
       "    <tr style=\"text-align: right;\">\n",
       "      <th></th>\n",
       "      <th>value</th>\n",
       "    </tr>\n",
       "  </thead>\n",
       "  <tbody>\n",
       "    <tr>\n",
       "      <th>cuisine_0</th>\n",
       "      <td>0</td>\n",
       "    </tr>\n",
       "    <tr>\n",
       "      <th>is_authenticated_0</th>\n",
       "      <td>0</td>\n",
       "    </tr>\n",
       "    <tr>\n",
       "      <th>is_authenticated_1</th>\n",
       "      <td>0</td>\n",
       "    </tr>\n",
       "    <tr>\n",
       "      <th>risk_level_0</th>\n",
       "      <td>0</td>\n",
       "    </tr>\n",
       "    <tr>\n",
       "      <th>risk_level_1</th>\n",
       "      <td>0</td>\n",
       "    </tr>\n",
       "    <tr>\n",
       "      <th>risk_level_2</th>\n",
       "      <td>0</td>\n",
       "    </tr>\n",
       "    <tr>\n",
       "      <th>risk_level_3</th>\n",
       "      <td>0</td>\n",
       "    </tr>\n",
       "    <tr>\n",
       "      <th>temperature_0</th>\n",
       "      <td>0</td>\n",
       "    </tr>\n",
       "    <tr>\n",
       "      <th>temperature_1</th>\n",
       "      <td>0</td>\n",
       "    </tr>\n",
       "    <tr>\n",
       "      <th>shopping_items_0</th>\n",
       "      <td>1</td>\n",
       "    </tr>\n",
       "  </tbody>\n",
       "</table>\n",
       "</div>"
      ],
      "text/plain": [
       "                    value\n",
       "cuisine_0               0\n",
       "is_authenticated_0      0\n",
       "is_authenticated_1      0\n",
       "risk_level_0            0\n",
       "risk_level_1            0\n",
       "risk_level_2            0\n",
       "risk_level_3            0\n",
       "temperature_0           0\n",
       "temperature_1           0\n",
       "shopping_items_0        1"
      ]
     },
     "execution_count": 70,
     "metadata": {},
     "output_type": "execute_result"
    }
   ],
   "source": [
    "s = SlotSet(\"shopping_items\", [\"eggs\", \"milk\"])\n",
    "\n",
    "states, features = get_slot_prediction_states_and_features(t, s)\n",
    "\n",
    "slot_features = extract_features(features, 'slots')\n",
    "\n",
    "df_slot_features['value'] = slot_features.astype('int')\n",
    "df_slot_features"
   ]
  },
  {
   "cell_type": "markdown",
   "id": "a3a50396-86bc-4e0f-b5a9-88d85a7eacf2",
   "metadata": {},
   "source": [
    "But you don't have to pass a list:"
   ]
  },
  {
   "cell_type": "code",
   "execution_count": 71,
   "id": "9e61f20c-36a9-489f-bc66-999daaecf22a",
   "metadata": {},
   "outputs": [
    {
     "data": {
      "text/html": [
       "<div>\n",
       "<style scoped>\n",
       "    .dataframe tbody tr th:only-of-type {\n",
       "        vertical-align: middle;\n",
       "    }\n",
       "\n",
       "    .dataframe tbody tr th {\n",
       "        vertical-align: top;\n",
       "    }\n",
       "\n",
       "    .dataframe thead th {\n",
       "        text-align: right;\n",
       "    }\n",
       "</style>\n",
       "<table border=\"1\" class=\"dataframe\">\n",
       "  <thead>\n",
       "    <tr style=\"text-align: right;\">\n",
       "      <th></th>\n",
       "      <th>value</th>\n",
       "    </tr>\n",
       "  </thead>\n",
       "  <tbody>\n",
       "    <tr>\n",
       "      <th>cuisine_0</th>\n",
       "      <td>0</td>\n",
       "    </tr>\n",
       "    <tr>\n",
       "      <th>is_authenticated_0</th>\n",
       "      <td>0</td>\n",
       "    </tr>\n",
       "    <tr>\n",
       "      <th>is_authenticated_1</th>\n",
       "      <td>0</td>\n",
       "    </tr>\n",
       "    <tr>\n",
       "      <th>risk_level_0</th>\n",
       "      <td>0</td>\n",
       "    </tr>\n",
       "    <tr>\n",
       "      <th>risk_level_1</th>\n",
       "      <td>0</td>\n",
       "    </tr>\n",
       "    <tr>\n",
       "      <th>risk_level_2</th>\n",
       "      <td>0</td>\n",
       "    </tr>\n",
       "    <tr>\n",
       "      <th>risk_level_3</th>\n",
       "      <td>0</td>\n",
       "    </tr>\n",
       "    <tr>\n",
       "      <th>temperature_0</th>\n",
       "      <td>0</td>\n",
       "    </tr>\n",
       "    <tr>\n",
       "      <th>temperature_1</th>\n",
       "      <td>0</td>\n",
       "    </tr>\n",
       "    <tr>\n",
       "      <th>shopping_items_0</th>\n",
       "      <td>1</td>\n",
       "    </tr>\n",
       "  </tbody>\n",
       "</table>\n",
       "</div>"
      ],
      "text/plain": [
       "                    value\n",
       "cuisine_0               0\n",
       "is_authenticated_0      0\n",
       "is_authenticated_1      0\n",
       "risk_level_0            0\n",
       "risk_level_1            0\n",
       "risk_level_2            0\n",
       "risk_level_3            0\n",
       "temperature_0           0\n",
       "temperature_1           0\n",
       "shopping_items_0        1"
      ]
     },
     "execution_count": 71,
     "metadata": {},
     "output_type": "execute_result"
    }
   ],
   "source": [
    "s = SlotSet(\"shopping_items\", 200)\n",
    "\n",
    "states, features = get_slot_prediction_states_and_features(t, s)\n",
    "\n",
    "slot_features = extract_features(features, 'slots')\n",
    "\n",
    "df_slot_features['value'] = slot_features.astype('int')\n",
    "df_slot_features"
   ]
  },
  {
   "cell_type": "code",
   "execution_count": 72,
   "id": "18309c45-3a73-411a-8048-6827daf9424b",
   "metadata": {},
   "outputs": [
    {
     "data": {
      "text/html": [
       "<div>\n",
       "<style scoped>\n",
       "    .dataframe tbody tr th:only-of-type {\n",
       "        vertical-align: middle;\n",
       "    }\n",
       "\n",
       "    .dataframe tbody tr th {\n",
       "        vertical-align: top;\n",
       "    }\n",
       "\n",
       "    .dataframe thead th {\n",
       "        text-align: right;\n",
       "    }\n",
       "</style>\n",
       "<table border=\"1\" class=\"dataframe\">\n",
       "  <thead>\n",
       "    <tr style=\"text-align: right;\">\n",
       "      <th></th>\n",
       "      <th>value</th>\n",
       "    </tr>\n",
       "  </thead>\n",
       "  <tbody>\n",
       "    <tr>\n",
       "      <th>cuisine_0</th>\n",
       "      <td>0</td>\n",
       "    </tr>\n",
       "    <tr>\n",
       "      <th>is_authenticated_0</th>\n",
       "      <td>0</td>\n",
       "    </tr>\n",
       "    <tr>\n",
       "      <th>is_authenticated_1</th>\n",
       "      <td>0</td>\n",
       "    </tr>\n",
       "    <tr>\n",
       "      <th>risk_level_0</th>\n",
       "      <td>0</td>\n",
       "    </tr>\n",
       "    <tr>\n",
       "      <th>risk_level_1</th>\n",
       "      <td>0</td>\n",
       "    </tr>\n",
       "    <tr>\n",
       "      <th>risk_level_2</th>\n",
       "      <td>0</td>\n",
       "    </tr>\n",
       "    <tr>\n",
       "      <th>risk_level_3</th>\n",
       "      <td>0</td>\n",
       "    </tr>\n",
       "    <tr>\n",
       "      <th>temperature_0</th>\n",
       "      <td>0</td>\n",
       "    </tr>\n",
       "    <tr>\n",
       "      <th>temperature_1</th>\n",
       "      <td>0</td>\n",
       "    </tr>\n",
       "    <tr>\n",
       "      <th>shopping_items_0</th>\n",
       "      <td>1</td>\n",
       "    </tr>\n",
       "  </tbody>\n",
       "</table>\n",
       "</div>"
      ],
      "text/plain": [
       "                    value\n",
       "cuisine_0               0\n",
       "is_authenticated_0      0\n",
       "is_authenticated_1      0\n",
       "risk_level_0            0\n",
       "risk_level_1            0\n",
       "risk_level_2            0\n",
       "risk_level_3            0\n",
       "temperature_0           0\n",
       "temperature_1           0\n",
       "shopping_items_0        1"
      ]
     },
     "execution_count": 72,
     "metadata": {},
     "output_type": "execute_result"
    }
   ],
   "source": [
    "s = SlotSet(\"shopping_items\", \"eggs\")\n",
    "\n",
    "states, features = get_slot_prediction_states_and_features(t, s)\n",
    "\n",
    "slot_features = extract_features(features, 'slots')\n",
    "\n",
    "df_slot_features['value'] = slot_features.astype('int')\n",
    "df_slot_features"
   ]
  },
  {
   "cell_type": "markdown",
   "id": "809a78f7-ba3e-4b6e-ab7e-cf95bed66947",
   "metadata": {},
   "source": [
    "A list of None will get featurized too:"
   ]
  },
  {
   "cell_type": "code",
   "execution_count": 73,
   "id": "9764b2a9-78f6-405b-8de2-bb2f9a44f2e8",
   "metadata": {},
   "outputs": [
    {
     "data": {
      "text/html": [
       "<div>\n",
       "<style scoped>\n",
       "    .dataframe tbody tr th:only-of-type {\n",
       "        vertical-align: middle;\n",
       "    }\n",
       "\n",
       "    .dataframe tbody tr th {\n",
       "        vertical-align: top;\n",
       "    }\n",
       "\n",
       "    .dataframe thead th {\n",
       "        text-align: right;\n",
       "    }\n",
       "</style>\n",
       "<table border=\"1\" class=\"dataframe\">\n",
       "  <thead>\n",
       "    <tr style=\"text-align: right;\">\n",
       "      <th></th>\n",
       "      <th>value</th>\n",
       "    </tr>\n",
       "  </thead>\n",
       "  <tbody>\n",
       "    <tr>\n",
       "      <th>cuisine_0</th>\n",
       "      <td>0</td>\n",
       "    </tr>\n",
       "    <tr>\n",
       "      <th>is_authenticated_0</th>\n",
       "      <td>0</td>\n",
       "    </tr>\n",
       "    <tr>\n",
       "      <th>is_authenticated_1</th>\n",
       "      <td>0</td>\n",
       "    </tr>\n",
       "    <tr>\n",
       "      <th>risk_level_0</th>\n",
       "      <td>0</td>\n",
       "    </tr>\n",
       "    <tr>\n",
       "      <th>risk_level_1</th>\n",
       "      <td>0</td>\n",
       "    </tr>\n",
       "    <tr>\n",
       "      <th>risk_level_2</th>\n",
       "      <td>0</td>\n",
       "    </tr>\n",
       "    <tr>\n",
       "      <th>risk_level_3</th>\n",
       "      <td>0</td>\n",
       "    </tr>\n",
       "    <tr>\n",
       "      <th>temperature_0</th>\n",
       "      <td>0</td>\n",
       "    </tr>\n",
       "    <tr>\n",
       "      <th>temperature_1</th>\n",
       "      <td>0</td>\n",
       "    </tr>\n",
       "    <tr>\n",
       "      <th>shopping_items_0</th>\n",
       "      <td>1</td>\n",
       "    </tr>\n",
       "  </tbody>\n",
       "</table>\n",
       "</div>"
      ],
      "text/plain": [
       "                    value\n",
       "cuisine_0               0\n",
       "is_authenticated_0      0\n",
       "is_authenticated_1      0\n",
       "risk_level_0            0\n",
       "risk_level_1            0\n",
       "risk_level_2            0\n",
       "risk_level_3            0\n",
       "temperature_0           0\n",
       "temperature_1           0\n",
       "shopping_items_0        1"
      ]
     },
     "execution_count": 73,
     "metadata": {},
     "output_type": "execute_result"
    }
   ],
   "source": [
    "s = SlotSet(\"shopping_items\", [None])\n",
    "\n",
    "states, features = get_slot_prediction_states_and_features(t, s)\n",
    "\n",
    "slot_features = extract_features(features, 'slots')\n",
    "\n",
    "df_slot_features['value'] = slot_features.astype('int')\n",
    "df_slot_features"
   ]
  },
  {
   "cell_type": "markdown",
   "id": "7a91a244-f47e-4b21-9f94-b6f176df1610",
   "metadata": {},
   "source": [
    "But an empty list will not:"
   ]
  },
  {
   "cell_type": "code",
   "execution_count": 74,
   "id": "a719094b-7ec6-4f8e-950f-c4d652dbc3cf",
   "metadata": {},
   "outputs": [
    {
     "name": "stdout",
     "output_type": "stream",
     "text": [
      "features is [{}]\n"
     ]
    },
    {
     "name": "stderr",
     "output_type": "stream",
     "text": [
      "Traceback (most recent call last):\n",
      "  File \"/tmp/ipykernel_21931/1118870660.py\", line 8, in <module>\n",
      "    slot_features = extract_features(features, 'slots')\n",
      "  File \"/tmp/ipykernel_21931/2479924411.py\", line 19, in extract_features\n",
      "    assert len(f[feature_type]) == 1\n",
      "KeyError: 'slots'\n"
     ]
    }
   ],
   "source": [
    "import traceback\n",
    "\n",
    "s = SlotSet(\"shopping_items\", [])\n",
    "\n",
    "states, features = get_slot_prediction_states_and_features(t, s)\n",
    "\n",
    "try:\n",
    "    slot_features = extract_features(features, 'slots')\n",
    "except KeyError as e:\n",
    "    print(f\"features is {features}\")\n",
    "    traceback.print_exc()"
   ]
  },
  {
   "cell_type": "markdown",
   "id": "c3e35229-d802-42d9-81b4-fd4d7106f138",
   "metadata": {},
   "source": [
    "# Appendix"
   ]
  },
  {
   "cell_type": "markdown",
   "id": "56a0c6c4-8b78-449f-90a4-f6d9c68be48c",
   "metadata": {},
   "source": [
    "## Making Up A Tracker"
   ]
  },
  {
   "cell_type": "markdown",
   "id": "63132332-80ba-468f-9fad-723e97d04978",
   "metadata": {},
   "source": [
    "Make a message:"
   ]
  },
  {
   "cell_type": "code",
   "execution_count": 75,
   "id": "909b92c1-8a9b-469e-ad7e-be833ebffcbe",
   "metadata": {},
   "outputs": [],
   "source": [
    "user_message = UserMessage(\"hello\", sender_id=\"fake_user2\")"
   ]
  },
  {
   "cell_type": "markdown",
   "id": "006ba222-be4a-48e6-84aa-1aff9f0b1f12",
   "metadata": {},
   "source": [
    "Start a tracker with that message:"
   ]
  },
  {
   "cell_type": "code",
   "execution_count": 76,
   "id": "1e3b1c6a-8f26-4008-8c61-3a4d2a24b046",
   "metadata": {},
   "outputs": [
    {
     "data": {
      "text/plain": [
       "deque([ActionExecuted(action: action_session_start, policy: None, confidence: 1.0),\n",
       "       <rasa.shared.core.events.SessionStarted at 0x7f92993b2fd0>,\n",
       "       ActionExecuted(action: action_listen, policy: None, confidence: None),\n",
       "       <rasa.shared.core.events.UserUttered at 0x7f929876ed90>])"
      ]
     },
     "execution_count": 76,
     "metadata": {},
     "output_type": "execute_result"
    }
   ],
   "source": [
    "t = await get_tracker(message_processor, user_message)\n",
    "t.events"
   ]
  },
  {
   "cell_type": "markdown",
   "id": "386ff34b-ee68-4c42-940d-4c1feece69d5",
   "metadata": {},
   "source": [
    "Make up some events following the user's message:"
   ]
  },
  {
   "cell_type": "code",
   "execution_count": 77,
   "id": "9ec008ed-5114-4e4f-b073-3d651143eb12",
   "metadata": {},
   "outputs": [],
   "source": [
    "user_message = UserMessage(\"I want to open a checking account\", sender_id=\"fake_user\")\n",
    "parsed_message = await message_processor.parse_message(user_message)\n",
    "u = UserUttered(text = parsed_message['text'],\n",
    "            intent = parsed_message['intent'],\n",
    "            entities = parsed_message['entities'])\n",
    "\n",
    "\n",
    "my_events = [ActionExecuted(action_name=\"utter_greet\"), \n",
    "             SlotSet(\"risk_level\", \"low\"), \n",
    "             u,\n",
    "             ActionExecuted(action_name=\"utter_happy\")\n",
    "            ]\n",
    "\n",
    "t.update_with_events(my_events, domain)"
   ]
  },
  {
   "cell_type": "markdown",
   "id": "f0cd3423-1f9a-4911-bfe9-faa84f2521bc",
   "metadata": {},
   "source": [
    "View the saved events:"
   ]
  },
  {
   "cell_type": "code",
   "execution_count": 78,
   "id": "bb392118-0709-4626-9971-2874baa34f37",
   "metadata": {},
   "outputs": [
    {
     "data": {
      "text/plain": [
       "deque([ActionExecuted(action: action_session_start, policy: None, confidence: 1.0),\n",
       "       <rasa.shared.core.events.SessionStarted at 0x7f92993b2fd0>,\n",
       "       ActionExecuted(action: action_listen, policy: None, confidence: None),\n",
       "       <rasa.shared.core.events.UserUttered at 0x7f929876ed90>,\n",
       "       ActionExecuted(action: utter_greet, policy: None, confidence: None),\n",
       "       <rasa.shared.core.events.SlotSet at 0x7f92993c32b0>,\n",
       "       <rasa.shared.core.events.UserUttered at 0x7f929941e070>,\n",
       "       ActionExecuted(action: utter_happy, policy: None, confidence: None)])"
      ]
     },
     "execution_count": 78,
     "metadata": {},
     "output_type": "execute_result"
    }
   ],
   "source": [
    "t.events"
   ]
  },
  {
   "cell_type": "markdown",
   "id": "c71d9b3f-b937-4e1f-a6e9-ea76a8c3d90e",
   "metadata": {},
   "source": [
    "Convert the events into states for prediction:"
   ]
  },
  {
   "cell_type": "code",
   "execution_count": 79,
   "id": "d963396e-1c01-4ace-aaec-6055fe63d1cb",
   "metadata": {},
   "outputs": [
    {
     "data": {
      "text/plain": [
       "[{},\n",
       " {'user': {'intent': 'greet'},\n",
       "  'prev_action': {'action_name': 'action_listen'}},\n",
       " {'user': {'intent': 'inform', 'entities': ('account',)},\n",
       "  'slots': {'risk_level': (1.0, 0.0, 0.0, 0.0)},\n",
       "  'prev_action': {'action_name': 'utter_greet'}},\n",
       " {'user': {'intent': 'inform', 'entities': ('account',)},\n",
       "  'slots': {'risk_level': (1.0, 0.0, 0.0, 0.0)},\n",
       "  'prev_action': {'action_name': 'utter_happy'}}]"
      ]
     },
     "execution_count": 79,
     "metadata": {},
     "output_type": "execute_result"
    }
   ],
   "source": [
    "states =  ted_featurizer.prediction_states([t], domain)[0]\n",
    "states "
   ]
  },
  {
   "cell_type": "markdown",
   "id": "1dac41ab-54f1-4177-8194-34caec20d5b3",
   "metadata": {},
   "source": [
    "The features of each state:"
   ]
  },
  {
   "cell_type": "code",
   "execution_count": 80,
   "id": "dbf0a1e6-100c-4f8a-ad94-89e93070dcda",
   "metadata": {},
   "outputs": [
    {
     "data": {
      "text/plain": [
       "[{},\n",
       " {'intent': [<rasa.shared.nlu.training_data.features.Features at 0x7f94021fa790>],\n",
       "  'action_name': [<rasa.shared.nlu.training_data.features.Features at 0x7f92986f9190>]},\n",
       " {'slots': [<rasa.shared.nlu.training_data.features.Features at 0x7f94021fa7c0>],\n",
       "  'action_name': [<rasa.shared.nlu.training_data.features.Features at 0x7f92987669a0>]},\n",
       " {'slots': [<rasa.shared.nlu.training_data.features.Features at 0x7f9298766ac0>],\n",
       "  'action_name': [<rasa.shared.nlu.training_data.features.Features at 0x7f92993bfac0>]}]"
      ]
     },
     "execution_count": 80,
     "metadata": {},
     "output_type": "execute_result"
    }
   ],
   "source": [
    "features = ted_featurizer.create_state_features([t], domain, interpreter)[0]\n",
    "features"
   ]
  }
 ],
 "metadata": {
  "kernelspec": {
   "display_name": "Python 3 (ipykernel)",
   "language": "python",
   "name": "python3"
  },
  "language_info": {
   "codemirror_mode": {
    "name": "ipython",
    "version": 3
   },
   "file_extension": ".py",
   "mimetype": "text/x-python",
   "name": "python",
   "nbconvert_exporter": "python",
   "pygments_lexer": "ipython3",
   "version": "3.8.10"
  }
 },
 "nbformat": 4,
 "nbformat_minor": 5
}
